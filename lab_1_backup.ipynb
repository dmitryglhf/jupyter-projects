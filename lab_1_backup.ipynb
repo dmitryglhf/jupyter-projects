{
  "cells": [
    {
      "cell_type": "markdown",
      "metadata": {
        "id": "view-in-github",
        "colab_type": "text"
      },
      "source": [
        "<a href=\"https://colab.research.google.com/github/dmitryglhf/jupyter-projects/blob/main/lab_1_backup.ipynb\" target=\"_parent\"><img src=\"https://colab.research.google.com/assets/colab-badge.svg\" alt=\"Open In Colab\"/></a>"
      ]
    },
    {
      "cell_type": "markdown",
      "metadata": {
        "id": "Ia1-cqMtnSPw"
      },
      "source": [
        "### Data"
      ]
    },
    {
      "cell_type": "code",
      "execution_count": null,
      "metadata": {
        "id": "cwIKbK7cnSP0"
      },
      "outputs": [],
      "source": [
        "import numpy as np\n",
        "import pandas as pd\n",
        "\n",
        "from sklearn.preprocessing import StandardScaler"
      ]
    },
    {
      "cell_type": "code",
      "execution_count": null,
      "metadata": {
        "id": "PqXcB5BcnSP1"
      },
      "outputs": [],
      "source": [
        "#df = pd.read_csv('cancer_tumor_data_features.csv')"
      ]
    },
    {
      "cell_type": "markdown",
      "source": [],
      "metadata": {
        "id": "DbudmEedbXW7"
      }
    },
    {
      "cell_type": "markdown",
      "metadata": {
        "id": "Jx71gFk-nSP2"
      },
      "source": [
        "### QR-algorithm\n"
      ]
    },
    {
      "cell_type": "code",
      "execution_count": null,
      "metadata": {
        "id": "ZKcanMkInSP3"
      },
      "outputs": [],
      "source": [
        "def householder(a):\n",
        "    v = a.copy()\n",
        "    v[0] += np.sign(v[0]) * np.linalg.norm(a)\n",
        "    H = np.eye(len(a)) - 2 * np.outer(v, v) / np.dot(v, v)  # getting Householder matrix\n",
        "    return H\n",
        "\n",
        "\n",
        "def get_qr(A):\n",
        "    n = A.shape[0]\n",
        "    Q = np.eye(n)\n",
        "    R = A.copy()\n",
        "\n",
        "    for j in range(n):\n",
        "        a = R[j:, j]  # getting vector\n",
        "        H = householder(a)  # getting Householder matrix\n",
        "\n",
        "        R[j:, j:] = H @ R[j:, j:]  # change R\n",
        "        Q[:, j:] = Q[:, j:] @ H.T  # change Q\n",
        "\n",
        "    return Q, R\n",
        "\n",
        "\n",
        "def eig(A, e=1e-10):\n",
        "    An = A.copy() # for eig values\n",
        "    eig_vectors = np.eye(A.shape[0]) # for eig vectors\n",
        "    cache_eig_values = np.diag(An) # diag values\n",
        "    diff = 1000\n",
        "\n",
        "    while diff > e:\n",
        "        Q, R = get_qr(An)\n",
        "\n",
        "        # update eigen values and eigen vectors\n",
        "        An = R @ Q\n",
        "        eig_vectors = eig_vectors @ Q\n",
        "\n",
        "        # update difference between eig values\n",
        "        current_eig_values = np.diag(An)\n",
        "        diff = np.linalg.norm(current_eig_values - cache_eig_values)\n",
        "        cache_eig_values = current_eig_values\n",
        "\n",
        "    eig_values = np.diag(An)\n",
        "\n",
        "    # sort eig_values and eig_vectors\n",
        "    #sorted_key = np.argsort(eig_values)[::-1]\n",
        "    #eig_values, eig_vectors = eig_values[sorted_key], eig_vectors[:,sorted_key]\n",
        "\n",
        "    # return eigen values and eigen vectors\n",
        "    return eig_values, eig_vectors"
      ]
    },
    {
      "cell_type": "markdown",
      "source": [
        "### SVD"
      ],
      "metadata": {
        "id": "1QF55rB24ivP"
      }
    },
    {
      "cell_type": "code",
      "source": [
        "def svd(A):\n",
        "    # V^T matrix\n",
        "    temp_V = A.T @ A\n",
        "    eig_values, V = np.linalg.eig(temp_V)  # Собственные значения и векторы для A^T A\n",
        "\n",
        "\n",
        "    # U matrix\n",
        "    temp_U = A @ A.T\n",
        "    _, U = np.linalg.eig(temp_U)  # Собственные значения и векторы для A A^T\n",
        "\n",
        "    # Sigma matrix\n",
        "    sigma = np.zeros((A.shape[0], A.shape[1]))\n",
        "    for i in range(min(A.shape[0], A.shape[1])):\n",
        "      # тут может быть косяк с плавающей запятой:\n",
        "      sigma[i, i] = np.sqrt(eig_values[i]) if eig_values[i] >= 0 else 0\n",
        "\n",
        "    # Result\n",
        "    return U, sigma, V.T"
      ],
      "metadata": {
        "id": "oK40PoxF4kz9"
      },
      "execution_count": null,
      "outputs": []
    },
    {
      "cell_type": "markdown",
      "source": [
        "### Data Scaling"
      ],
      "metadata": {
        "id": "MxW70xDrjWMG"
      }
    },
    {
      "cell_type": "code",
      "source": [
        "scaler = StandardScaler()\n",
        "scaled_X = scaler.fit_transform(df)\n",
        "scaled_X.mean()"
      ],
      "metadata": {
        "id": "ARaNA8XljaD7",
        "colab": {
          "base_uri": "https://localhost:8080/",
          "height": 176
        },
        "outputId": "16ad64ec-efc6-499a-a7bf-44489715d28e"
      },
      "execution_count": null,
      "outputs": [
        {
          "output_type": "error",
          "ename": "NameError",
          "evalue": "name 'df' is not defined",
          "traceback": [
            "\u001b[0;31m---------------------------------------------------------------------------\u001b[0m",
            "\u001b[0;31mNameError\u001b[0m                                 Traceback (most recent call last)",
            "\u001b[0;32m<ipython-input-6-ead200912c24>\u001b[0m in \u001b[0;36m<cell line: 2>\u001b[0;34m()\u001b[0m\n\u001b[1;32m      1\u001b[0m \u001b[0mscaler\u001b[0m \u001b[0;34m=\u001b[0m \u001b[0mStandardScaler\u001b[0m\u001b[0;34m(\u001b[0m\u001b[0;34m)\u001b[0m\u001b[0;34m\u001b[0m\u001b[0;34m\u001b[0m\u001b[0m\n\u001b[0;32m----> 2\u001b[0;31m \u001b[0mscaled_X\u001b[0m \u001b[0;34m=\u001b[0m \u001b[0mscaler\u001b[0m\u001b[0;34m.\u001b[0m\u001b[0mfit_transform\u001b[0m\u001b[0;34m(\u001b[0m\u001b[0mdf\u001b[0m\u001b[0;34m)\u001b[0m\u001b[0;34m\u001b[0m\u001b[0;34m\u001b[0m\u001b[0m\n\u001b[0m\u001b[1;32m      3\u001b[0m \u001b[0mscaled_X\u001b[0m\u001b[0;34m.\u001b[0m\u001b[0mmean\u001b[0m\u001b[0;34m(\u001b[0m\u001b[0;34m)\u001b[0m\u001b[0;34m\u001b[0m\u001b[0;34m\u001b[0m\u001b[0m\n",
            "\u001b[0;31mNameError\u001b[0m: name 'df' is not defined"
          ]
        }
      ]
    },
    {
      "cell_type": "markdown",
      "source": [
        "### PCA"
      ],
      "metadata": {
        "id": "-ttL4wayGEvO"
      }
    },
    {
      "cell_type": "code",
      "source": [
        "def pca(X):\n",
        "  U, S, V_T = svd(X)\n",
        "\n",
        "  # finding numer of PC\n",
        "  sum = S[0][0]\n",
        "  explained_ratio = sum / np.sum(np.diag(X))\n",
        "  i = 1\n",
        "  while(explaned_ratio <= 0.95):\n",
        "    sum += S[i][i]\n",
        "    explained_ratio = sum / np.sum(np.diag(X))\n",
        "    i += 1\n",
        "\n",
        "  # projection\n",
        "  V_T_k = V_T[:i, :]  # берем первые k строк матрицы V_T\n",
        "  X_pca = X @ V_T_k.T\n",
        "\n",
        "  return X_pca"
      ],
      "metadata": {
        "id": "6MpsIuDVGHZC"
      },
      "execution_count": null,
      "outputs": []
    },
    {
      "cell_type": "markdown",
      "source": [
        "### Build the Neural Network\n",
        "\n",
        "https://pytorch.org/tutorials/beginner/basics/buildmodel_tutorial.html#model-parameters"
      ],
      "metadata": {
        "id": "JeBhbz6FGIQ4"
      }
    },
    {
      "cell_type": "code",
      "source": [
        "import os\n",
        "import torch\n",
        "from torch import nn\n",
        "from torch.utils.data import DataLoader\n",
        "from torchvision import datasets, transforms"
      ],
      "metadata": {
        "id": "Nas_dEJoGQaa"
      },
      "execution_count": null,
      "outputs": []
    },
    {
      "cell_type": "markdown",
      "source": [
        "#### Get Device for Training"
      ],
      "metadata": {
        "id": "M0Nn_zz_GzHt"
      }
    },
    {
      "cell_type": "code",
      "source": [
        "device = (\n",
        "    \"cuda\"\n",
        "    if torch.cuda.is_available()\n",
        "    else \"mps\"\n",
        "    if torch.backends.mps.is_available()\n",
        "    else \"cpu\"\n",
        ")\n",
        "print(f\"Using {device} device\")"
      ],
      "metadata": {
        "id": "vkDHLdk1G-kE",
        "colab": {
          "base_uri": "https://localhost:8080/",
          "height": 211
        },
        "outputId": "3d62db19-9a85-465f-b137-abb67652ef18"
      },
      "execution_count": null,
      "outputs": [
        {
          "output_type": "error",
          "ename": "NameError",
          "evalue": "name 'torch' is not defined",
          "traceback": [
            "\u001b[0;31m---------------------------------------------------------------------------\u001b[0m",
            "\u001b[0;31mNameError\u001b[0m                                 Traceback (most recent call last)",
            "\u001b[0;32m<ipython-input-7-9b8b5281e4af>\u001b[0m in \u001b[0;36m<cell line: 3>\u001b[0;34m()\u001b[0m\n\u001b[1;32m      1\u001b[0m device = (\n\u001b[1;32m      2\u001b[0m     \u001b[0;34m\"cuda\"\u001b[0m\u001b[0;34m\u001b[0m\u001b[0;34m\u001b[0m\u001b[0m\n\u001b[0;32m----> 3\u001b[0;31m     \u001b[0;32mif\u001b[0m \u001b[0mtorch\u001b[0m\u001b[0;34m.\u001b[0m\u001b[0mcuda\u001b[0m\u001b[0;34m.\u001b[0m\u001b[0mis_available\u001b[0m\u001b[0;34m(\u001b[0m\u001b[0;34m)\u001b[0m\u001b[0;34m\u001b[0m\u001b[0;34m\u001b[0m\u001b[0m\n\u001b[0m\u001b[1;32m      4\u001b[0m     \u001b[0;32melse\u001b[0m \u001b[0;34m\"mps\"\u001b[0m\u001b[0;34m\u001b[0m\u001b[0;34m\u001b[0m\u001b[0m\n\u001b[1;32m      5\u001b[0m     \u001b[0;32mif\u001b[0m \u001b[0mtorch\u001b[0m\u001b[0;34m.\u001b[0m\u001b[0mbackends\u001b[0m\u001b[0;34m.\u001b[0m\u001b[0mmps\u001b[0m\u001b[0;34m.\u001b[0m\u001b[0mis_available\u001b[0m\u001b[0;34m(\u001b[0m\u001b[0;34m)\u001b[0m\u001b[0;34m\u001b[0m\u001b[0;34m\u001b[0m\u001b[0m\n",
            "\u001b[0;31mNameError\u001b[0m: name 'torch' is not defined"
          ]
        }
      ]
    },
    {
      "cell_type": "markdown",
      "source": [
        "#### Define the Class"
      ],
      "metadata": {
        "id": "bbtbi_mAHCtP"
      }
    },
    {
      "cell_type": "code",
      "source": [
        "class NeuralNetwork(nn.Module):\n",
        "    def __init__(self):\n",
        "        super().__init__()\n",
        "        self.flatten = nn.Flatten()\n",
        "        self.linear_relu_stack = nn.Sequential(\n",
        "            nn.Linear(28*28, 512),\n",
        "            nn.ReLU(),\n",
        "            nn.Linear(512, 512),\n",
        "            nn.ReLU(),\n",
        "            nn.Linear(512, 10),\n",
        "        )\n",
        "\n",
        "    def forward(self, x):\n",
        "        x = self.flatten(x)\n",
        "        logits = self.linear_relu_stack(x)\n",
        "        return logits"
      ],
      "metadata": {
        "id": "5yWp5-v5HGf7",
        "colab": {
          "base_uri": "https://localhost:8080/",
          "height": 211
        },
        "outputId": "431228e1-4ecd-471a-85f1-03002d287eec"
      },
      "execution_count": null,
      "outputs": [
        {
          "output_type": "error",
          "ename": "NameError",
          "evalue": "name 'nn' is not defined",
          "traceback": [
            "\u001b[0;31m---------------------------------------------------------------------------\u001b[0m",
            "\u001b[0;31mNameError\u001b[0m                                 Traceback (most recent call last)",
            "\u001b[0;32m<ipython-input-8-1dfe0b457fbc>\u001b[0m in \u001b[0;36m<cell line: 1>\u001b[0;34m()\u001b[0m\n\u001b[0;32m----> 1\u001b[0;31m \u001b[0;32mclass\u001b[0m \u001b[0mNeuralNetwork\u001b[0m\u001b[0;34m(\u001b[0m\u001b[0mnn\u001b[0m\u001b[0;34m.\u001b[0m\u001b[0mModule\u001b[0m\u001b[0;34m)\u001b[0m\u001b[0;34m:\u001b[0m\u001b[0;34m\u001b[0m\u001b[0;34m\u001b[0m\u001b[0m\n\u001b[0m\u001b[1;32m      2\u001b[0m     \u001b[0;32mdef\u001b[0m \u001b[0m__init__\u001b[0m\u001b[0;34m(\u001b[0m\u001b[0mself\u001b[0m\u001b[0;34m)\u001b[0m\u001b[0;34m:\u001b[0m\u001b[0;34m\u001b[0m\u001b[0;34m\u001b[0m\u001b[0m\n\u001b[1;32m      3\u001b[0m         \u001b[0msuper\u001b[0m\u001b[0;34m(\u001b[0m\u001b[0;34m)\u001b[0m\u001b[0;34m.\u001b[0m\u001b[0m__init__\u001b[0m\u001b[0;34m(\u001b[0m\u001b[0;34m)\u001b[0m\u001b[0;34m\u001b[0m\u001b[0;34m\u001b[0m\u001b[0m\n\u001b[1;32m      4\u001b[0m         \u001b[0mself\u001b[0m\u001b[0;34m.\u001b[0m\u001b[0mflatten\u001b[0m \u001b[0;34m=\u001b[0m \u001b[0mnn\u001b[0m\u001b[0;34m.\u001b[0m\u001b[0mFlatten\u001b[0m\u001b[0;34m(\u001b[0m\u001b[0;34m)\u001b[0m\u001b[0;34m\u001b[0m\u001b[0;34m\u001b[0m\u001b[0m\n\u001b[1;32m      5\u001b[0m         self.linear_relu_stack = nn.Sequential(\n",
            "\u001b[0;31mNameError\u001b[0m: name 'nn' is not defined"
          ]
        }
      ]
    },
    {
      "cell_type": "code",
      "source": [
        "model = NeuralNetwork().to(device)\n",
        "print(model)"
      ],
      "metadata": {
        "id": "Ffx2Ft-XHLZk",
        "colab": {
          "base_uri": "https://localhost:8080/",
          "height": 158
        },
        "outputId": "18554dbd-1a4b-44f8-97d2-35b8d58fb198"
      },
      "execution_count": null,
      "outputs": [
        {
          "output_type": "error",
          "ename": "NameError",
          "evalue": "name 'NeuralNetwork' is not defined",
          "traceback": [
            "\u001b[0;31m---------------------------------------------------------------------------\u001b[0m",
            "\u001b[0;31mNameError\u001b[0m                                 Traceback (most recent call last)",
            "\u001b[0;32m<ipython-input-9-0fdd06b42e7c>\u001b[0m in \u001b[0;36m<cell line: 1>\u001b[0;34m()\u001b[0m\n\u001b[0;32m----> 1\u001b[0;31m \u001b[0mmodel\u001b[0m \u001b[0;34m=\u001b[0m \u001b[0mNeuralNetwork\u001b[0m\u001b[0;34m(\u001b[0m\u001b[0;34m)\u001b[0m\u001b[0;34m.\u001b[0m\u001b[0mto\u001b[0m\u001b[0;34m(\u001b[0m\u001b[0mdevice\u001b[0m\u001b[0;34m)\u001b[0m\u001b[0;34m\u001b[0m\u001b[0;34m\u001b[0m\u001b[0m\n\u001b[0m\u001b[1;32m      2\u001b[0m \u001b[0mprint\u001b[0m\u001b[0;34m(\u001b[0m\u001b[0mmodel\u001b[0m\u001b[0;34m)\u001b[0m\u001b[0;34m\u001b[0m\u001b[0;34m\u001b[0m\u001b[0m\n",
            "\u001b[0;31mNameError\u001b[0m: name 'NeuralNetwork' is not defined"
          ]
        }
      ]
    },
    {
      "cell_type": "code",
      "source": [
        "X = torch.rand(1, 28, 28, device=device)\n",
        "logits = model(X)\n",
        "pred_probab = nn.Softmax(dim=1)(logits)\n",
        "y_pred = pred_probab.argmax(1)\n",
        "print(f\"Predicted class: {y_pred}\")"
      ],
      "metadata": {
        "id": "Eqczwb8wH6t-"
      },
      "execution_count": null,
      "outputs": []
    },
    {
      "cell_type": "markdown",
      "metadata": {
        "id": "jf4k29IMnSP4"
      },
      "source": [
        "### Test - functions"
      ]
    },
    {
      "cell_type": "markdown",
      "source": [
        "### Test"
      ],
      "metadata": {
        "id": "PDWdfR9_auG3"
      }
    },
    {
      "cell_type": "code",
      "source": [
        "  '''\n",
        "  Для матрицы A_2x2:\n",
        "\n",
        "  U = [[0.6, 0.8]\n",
        "        [0.8, -0.6]]\n",
        "\n",
        "  Sigma = [[3, 0]\n",
        "                [0, 1]]\n",
        "\n",
        "  V_T = [[0.8, -0.6]\n",
        "            [0.6, 0.8]]\n",
        "\n",
        "  original: http://www.machinelearning.ru/wiki/index.php?title=%D0%A1%D0%B8%D0%BD%D0%B3%D1%83%D0%BB%D1%8F%D1%80%D0%BD%D0%BE%D0%B5_%D1%80%D0%B0%D0%B7%D0%BB%D0%BE%D0%B6%D0%B5%D0%BD%D0%B8%D0%B5\n",
        "  '''\n",
        "  A = np.array([[1, 2, 3],\n",
        "                [5, 7, 8],\n",
        "                [3, 6, 8]], dtype = float)\n",
        "svd_test(A)"
      ],
      "metadata": {
        "colab": {
          "base_uri": "https://localhost:8080/"
        },
        "id": "-MB7WkTEaxMw",
        "outputId": "6fbb1a84-2acc-45e4-b010-3f69a3994388"
      },
      "execution_count": null,
      "outputs": [
        {
          "output_type": "stream",
          "name": "stdout",
          "text": [
            "Origin matrix A: \n",
            "[[1. 2. 3.]\n",
            " [5. 7. 8.]\n",
            " [3. 6. 8.]] \n",
            " \n",
            "Матрица левых сингулярных векторов U: \n",
            " [[-0.23   0.346 -0.909]\n",
            " [-0.727 -0.682 -0.075]\n",
            " [-0.646  0.644  0.409]] \n",
            " \n",
            "Матрица сингулярных чисел Sigma: \n",
            " [[16.097  0.     0.   ]\n",
            " [ 0.     1.367  0.   ]\n",
            " [ 0.     0.     0.136]] \n",
            " \n",
            "Матрица правых сингулярных векторов V_T: \n",
            " [[-0.361 -0.586 -0.726]\n",
            " [-0.827 -0.158  0.539]\n",
            " [ 0.43  -0.795  0.428]] \n",
            " \n",
            "Исходная матрица: \n",
            " [[0.89325859 2.19710996 2.89392414]\n",
            " [4.99116809 7.01630912 7.99122315]\n",
            " [3.0480043  5.91135468 8.04770499]] \n",
            " \n"
          ]
        }
      ]
    },
    {
      "cell_type": "markdown",
      "source": [
        "### Комментарии\n"
      ],
      "metadata": {
        "id": "LbM_56DR82B6"
      }
    },
    {
      "cell_type": "markdown",
      "source": [
        "#### Заира\n",
        "\n",
        "Делаем так: нам нужно найти разложение X вида $U*Сигма*V_T$:\n",
        "- находим собственные значения для матрицы A*A_T и собств вектора -> определим U и Сигму из этого\n",
        "\n",
        "Cейчас (до вс) нужно научиться сортировать в сигме синг значения по убыванию и менять соответсвующие столбцы в U.\n",
        "Что делать с матрицей V я подумаю и скажу в вс"
      ],
      "metadata": {
        "id": "zWCK3prfAghu"
      }
    },
    {
      "cell_type": "code",
      "source": [],
      "metadata": {
        "id": "nj47UrLLK5mC"
      },
      "execution_count": null,
      "outputs": []
    },
    {
      "cell_type": "markdown",
      "source": [
        "#### Дима\n",
        "\n",
        "__Сделать__\n",
        "\n",
        "- nenene"
      ],
      "metadata": {
        "id": "tHjOs3Z1AkhO"
      }
    },
    {
      "cell_type": "code",
      "source": [],
      "metadata": {
        "id": "OBHW9Wgk2XwG"
      },
      "execution_count": null,
      "outputs": []
    },
    {
      "cell_type": "markdown",
      "source": [
        "#### Вадим\n",
        "\n",
        "можете оставлять здесь комментарии, заметки и прикладывать картинки.\n",
        "\n",
        "тыкни два раза по этому тексту чтобы редактировать его"
      ],
      "metadata": {
        "id": "TOZJqUEBA15V"
      }
    },
    {
      "cell_type": "code",
      "source": [],
      "metadata": {
        "id": "ucQvAeS4K4Wa"
      },
      "execution_count": null,
      "outputs": []
    },
    {
      "cell_type": "markdown",
      "source": [
        "#### Алена\n",
        "\n",
        "можете оставлять здесь комментарии, заметки и прикладывать картинки.\n",
        "\n",
        "тыкни два раза по этому тексту чтобы редактировать его"
      ],
      "metadata": {
        "id": "FeaB-8dEA7mi"
      }
    },
    {
      "cell_type": "code",
      "source": [
        "МЯУ"
      ],
      "metadata": {
        "id": "bn4QymHnIS6L"
      },
      "execution_count": null,
      "outputs": []
    }
  ],
  "metadata": {
    "kernelspec": {
      "display_name": "Python 3 (ipykernel)",
      "language": "python",
      "name": "python3"
    },
    "language_info": {
      "codemirror_mode": {
        "name": "ipython",
        "version": 3
      },
      "file_extension": ".py",
      "mimetype": "text/x-python",
      "name": "python",
      "nbconvert_exporter": "python",
      "pygments_lexer": "ipython3",
      "version": "3.11.7"
    },
    "colab": {
      "provenance": [],
      "collapsed_sections": [
        "MxW70xDrjWMG"
      ],
      "include_colab_link": true
    }
  },
  "nbformat": 4,
  "nbformat_minor": 0
}