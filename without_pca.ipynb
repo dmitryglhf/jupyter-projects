{
  "nbformat": 4,
  "nbformat_minor": 0,
  "metadata": {
    "colab": {
      "provenance": [],
      "include_colab_link": true
    },
    "kernelspec": {
      "name": "python3",
      "display_name": "Python 3"
    },
    "language_info": {
      "name": "python"
    }
  },
  "cells": [
    {
      "cell_type": "markdown",
      "metadata": {
        "id": "view-in-github",
        "colab_type": "text"
      },
      "source": [
        "<a href=\"https://colab.research.google.com/github/dmitryglhf/jupyter-projects/blob/main/without_pca.ipynb\" target=\"_parent\"><img src=\"https://colab.research.google.com/assets/colab-badge.svg\" alt=\"Open In Colab\"/></a>"
      ]
    },
    {
      "cell_type": "markdown",
      "source": [
        "### Libs"
      ],
      "metadata": {
        "id": "PCAuVLaYoEhr"
      }
    },
    {
      "cell_type": "code",
      "source": [
        "import numpy as np\n",
        "import pandas as pd\n",
        "import matplotlib.pyplot as plt\n",
        "\n",
        "from sklearn.preprocessing import StandardScaler, LabelEncoder\n",
        "from sklearn.metrics import roc_auc_score as roc_auc\n",
        "from sklearn.model_selection import train_test_split\n",
        "from sklearn.metrics import roc_curve\n",
        "\n",
        "import torch\n",
        "import torch.nn as nn\n",
        "import copy\n",
        "import torch.optim as optim\n",
        "import tqdm"
      ],
      "metadata": {
        "id": "BNaZEC2LDBSJ"
      },
      "execution_count": 1,
      "outputs": []
    },
    {
      "cell_type": "markdown",
      "source": [
        "### Functions"
      ],
      "metadata": {
        "id": "gAPWSbedDCGU"
      }
    },
    {
      "cell_type": "code",
      "source": [
        "def householder(a):\n",
        "    v = a.copy()\n",
        "    v[0] += np.sign(v[0]) * np.linalg.norm(a)\n",
        "    v_dot = np.dot(v, v)\n",
        "\n",
        "    if v_dot == 0:\n",
        "        H = np.eye(len(a))\n",
        "    else:\n",
        "        H = np.eye(len(a)) - 2 * np.outer(v, v) / v_dot\n",
        "    return H\n",
        "\n",
        "def get_qr(A):\n",
        "    n = A.shape[0]\n",
        "    Q = np.eye(n)\n",
        "    R = A.copy()\n",
        "\n",
        "    for j in range(n):\n",
        "        a = R[j:, j]\n",
        "        H = householder(a)\n",
        "        R[j:, j:] = H @ R[j:, j:]\n",
        "        Q[:, j:] = Q[:, j:] @ H.T\n",
        "\n",
        "    return Q, R\n",
        "\n",
        "def eig(A, e=1e-10, max_iter=1000):\n",
        "    Ak = A.copy()\n",
        "    eig_vectors = np.eye(A.shape[0])\n",
        "\n",
        "    for i in range(max_iter):\n",
        "        Q, R = get_qr(Ak)\n",
        "        Ak = np.dot(R, Q)\n",
        "        eig_vectors = np.dot(eig_vectors, Q)\n",
        "\n",
        "        off_diag_norm = np.sqrt(np.sum(np.tril(Ak, -1) ** 2))\n",
        "        if off_diag_norm < e:\n",
        "            break\n",
        "\n",
        "    eig_values = np.diag(Ak)\n",
        "    return eig_values, eig_vectors\n",
        "\n",
        "def svd(A):\n",
        "    temp_U = A @ A.T\n",
        "    eig_values_U, U = eig(temp_U)\n",
        "\n",
        "    idx_U = np.argsort(eig_values_U)[::-1]\n",
        "    eig_values_U = eig_values_U[idx_U]\n",
        "    U = U[:, idx_U]\n",
        "\n",
        "    sigma = np.zeros((A.shape[0], A.shape[1]))\n",
        "    for i in range(min(A.shape[0], A.shape[1])):\n",
        "        sigma[i, i] = np.sqrt(eig_values_U[i]) if eig_values_U[i] > 0 else 0\n",
        "\n",
        "    sigma_inv = np.zeros_like(sigma.T)\n",
        "    for i in range(min(A.shape[0], A.shape[1])):\n",
        "        if sigma[i, i] > 0:\n",
        "            sigma_inv[i, i] = 1 / sigma[i, i]\n",
        "\n",
        "    V_T = sigma_inv @ U.T @ A\n",
        "    S = np.diag(sigma)\n",
        "    return U, S, V_T\n",
        "\n",
        "def n_components(S):\n",
        "    exp_var = S[0] / S.sum()\n",
        "    k = 1\n",
        "    while exp_var < 0.95:\n",
        "        exp_var += S[k] / S.sum()\n",
        "        k += 1\n",
        "    return k, exp_var\n",
        "\n",
        "def pca(X):\n",
        "    U, S, V_T = svd(X)\n",
        "\n",
        "    # Определение числа главных компонент\n",
        "    k, exp_var = n_components(S)\n",
        "\n",
        "    # Обрезаем матрицу до первых k компонент\n",
        "    U_reduced = U[:, :k]\n",
        "    sigma_reduced = np.diag(S[:k])\n",
        "\n",
        "    # Возвращаем проекцию данных на первые k компонент\n",
        "    X_reduced = U_reduced @ sigma_reduced\n",
        "\n",
        "    print(f'Число главных компонент: {k}')\n",
        "    print(f'Доля объяснённой дисперсии: {exp_var}')\n",
        "\n",
        "    return X_reduced"
      ],
      "metadata": {
        "id": "lWoC6BNUAv6s"
      },
      "execution_count": 2,
      "outputs": []
    },
    {
      "cell_type": "markdown",
      "source": [
        "### Data"
      ],
      "metadata": {
        "id": "7WwKq8hqDYoS"
      }
    },
    {
      "cell_type": "code",
      "source": [
        "data = pd.read_csv('/content/Cancer_Data.csv')\n",
        "\n",
        "# Преобразование категориальной переменной в бинарную\n",
        "encoder = LabelEncoder()\n",
        "data[\"diagnosis\"] = encoder.fit_transform(data[\"diagnosis\"])\n",
        "\n",
        "# Удаление ненужных столбцов\n",
        "columns_to_drop = ['id', 'Unnamed: 32']\n",
        "data.drop(columns_to_drop, axis=1, inplace=True)\n",
        "\n",
        "# Пример для первых 100 строк данных\n",
        "data = data.head(100)\n",
        "X = data.drop('diagnosis', axis=1)\n",
        "y = data[\"diagnosis\"]\n",
        "\n",
        "# Стандартизация данных (рекомендуется перед PCA)\n",
        "scaler = StandardScaler()\n",
        "X_scaled = scaler.fit_transform(X)"
      ],
      "metadata": {
        "id": "jM-7T5iDDaKJ"
      },
      "execution_count": 3,
      "outputs": []
    },
    {
      "cell_type": "markdown",
      "source": [
        "### Build network"
      ],
      "metadata": {
        "id": "kfn4F7KXE0PN"
      }
    },
    {
      "cell_type": "code",
      "source": [
        "class MyNN(nn.Module):\n",
        "    def __init__(self, n):\n",
        "        super().__init__()\n",
        "        self.hidden = nn.Linear(n, n)\n",
        "        self.relu = nn.ReLU()\n",
        "        self.output = nn.Linear(n, 1)\n",
        "        self.sigmoid = nn.Sigmoid()\n",
        "\n",
        "    def forward(self, x):\n",
        "        x = self.relu(self.hidden(x))\n",
        "        x = self.sigmoid(self.output(x))\n",
        "        return x"
      ],
      "metadata": {
        "id": "3VNXNI1AE9kj"
      },
      "execution_count": 4,
      "outputs": []
    },
    {
      "cell_type": "code",
      "source": [
        "X_scaled.shape[1]"
      ],
      "metadata": {
        "colab": {
          "base_uri": "https://localhost:8080/"
        },
        "id": "TJkbmigwb4hX",
        "outputId": "e124d8ba-3859-4f02-a5d6-481168968de2"
      },
      "execution_count": 5,
      "outputs": [
        {
          "output_type": "execute_result",
          "data": {
            "text/plain": [
              "30"
            ]
          },
          "metadata": {},
          "execution_count": 5
        }
      ]
    },
    {
      "cell_type": "code",
      "source": [
        "model = MyNN(X_scaled.shape[1])\n",
        "print(sum([x.reshape(-1).shape[0] for x in model.parameters()]))"
      ],
      "metadata": {
        "colab": {
          "base_uri": "https://localhost:8080/"
        },
        "id": "P3HpEGIKE-GU",
        "outputId": "ab2b9a06-02ca-4535-eded-d30b4a1e087c"
      },
      "execution_count": 6,
      "outputs": [
        {
          "output_type": "stream",
          "name": "stdout",
          "text": [
            "961\n"
          ]
        }
      ]
    },
    {
      "cell_type": "code",
      "source": [
        "def model_train(model, X_train, y_train, X_val, y_val):\n",
        "    # loss function and optimizer\n",
        "    loss_fn = nn.BCELoss()  # binary cross entropy\n",
        "    optimizer = optim.Adam(model.parameters(), lr=0.0001)\n",
        "\n",
        "    n_epochs = 250   # number of epochs to run\n",
        "    batch_size = 10  # size of each batch\n",
        "    batch_start = torch.arange(0, len(X_train), batch_size)\n",
        "\n",
        "    # Hold the best model\n",
        "    best_acc = - np.inf   # init to negative infinity\n",
        "    best_weights = None\n",
        "\n",
        "    for epoch in range(n_epochs):\n",
        "        model.train()\n",
        "        with tqdm.tqdm(batch_start, unit=\"batch\", mininterval=0, disable=True) as bar:\n",
        "            bar.set_description(f\"Epoch {epoch}\")\n",
        "            for start in bar:\n",
        "                # take a batch\n",
        "                X_batch = X_train[start:start+batch_size]\n",
        "                y_batch = y_train[start:start+batch_size]\n",
        "                # forward pass\n",
        "                y_pred = model(X_batch)\n",
        "                loss = loss_fn(y_pred, y_batch)\n",
        "                # backward pass\n",
        "                optimizer.zero_grad()\n",
        "                loss.backward()\n",
        "                # update weights\n",
        "                optimizer.step()\n",
        "                # print progress\n",
        "                acc = (y_pred.round() == y_batch).float().mean()\n",
        "                bar.set_postfix(\n",
        "                    loss=float(loss),\n",
        "                    acc=float(acc)\n",
        "                )\n",
        "        # evaluate accuracy at end of each epoch\n",
        "        model.eval()\n",
        "        y_pred = model(X_val)\n",
        "        acc = (y_pred.round() == y_val).float().mean()\n",
        "        acc = float(acc)\n",
        "        if acc > best_acc:\n",
        "            best_acc = acc\n",
        "            best_weights = copy.deepcopy(model.state_dict())\n",
        "    # restore model and return best accuracy\n",
        "    model.load_state_dict(best_weights)\n",
        "    return best_acc"
      ],
      "metadata": {
        "id": "2BAroeflFBTI"
      },
      "execution_count": 7,
      "outputs": []
    },
    {
      "cell_type": "markdown",
      "source": [
        "### Test without PCA"
      ],
      "metadata": {
        "id": "v8-M_tZKFm9z"
      }
    },
    {
      "cell_type": "code",
      "source": [
        "X = torch.tensor(X_scaled, dtype=torch.float32)\n",
        "y = torch.tensor(y, dtype=torch.float32).reshape(-1, 1)"
      ],
      "metadata": {
        "id": "Y_3OKSuQFynG"
      },
      "execution_count": 8,
      "outputs": []
    },
    {
      "cell_type": "code",
      "source": [
        "X_train, X_test, y_train, y_test = train_test_split(X, y, train_size=0.7, shuffle=True)"
      ],
      "metadata": {
        "id": "xyXaTglBFDnP"
      },
      "execution_count": 9,
      "outputs": []
    },
    {
      "cell_type": "code",
      "source": [
        "%%time\n",
        "acc = model_train(model, X_train, y_train, X_test, y_test)\n",
        "print(f\"Final model accuracy: {acc*100:.2f}%\")"
      ],
      "metadata": {
        "colab": {
          "base_uri": "https://localhost:8080/"
        },
        "id": "rzg820eIFGU1",
        "outputId": "38d6c3b5-cbc3-410e-8f87-15e0e2b7a4d9"
      },
      "execution_count": 10,
      "outputs": [
        {
          "output_type": "stream",
          "name": "stdout",
          "text": [
            "Final model accuracy: 100.00%\n",
            "CPU times: user 4.54 s, sys: 137 ms, total: 4.68 s\n",
            "Wall time: 10.3 s\n"
          ]
        }
      ]
    },
    {
      "cell_type": "code",
      "source": [
        "with torch.no_grad():\n",
        "    # Plot the ROC curve\n",
        "    y_pred = model(X_test)\n",
        "    fpr, tpr, thresholds = roc_curve(y_test, y_pred)\n",
        "    plt.plot(fpr, tpr) # ROC curve = TPR vs FPR\n",
        "    plt.title(\"Receiver Operating Characteristics\")\n",
        "    plt.xlabel(\"False Positive Rate\")\n",
        "    plt.ylabel(\"True Positive Rate\")\n",
        "    plt.show()"
      ],
      "metadata": {
        "colab": {
          "base_uri": "https://localhost:8080/",
          "height": 472
        },
        "id": "OxdrUOBRGQ8J",
        "outputId": "d8fc7728-a983-47e8-cf96-02d849fd4c3c"
      },
      "execution_count": 11,
      "outputs": [
        {
          "output_type": "display_data",
          "data": {
            "text/plain": [
              "<Figure size 640x480 with 1 Axes>"
            ],
            "image/png": "[encoded data removed]"
          },
          "metadata": {}
        }
      ]
    }
  ]
}