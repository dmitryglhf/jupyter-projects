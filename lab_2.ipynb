{
  "cells": [
    {
      "cell_type": "markdown",
      "metadata": {
        "id": "view-in-github",
        "colab_type": "text"
      },
      "source": [
        "<a href=\"https://colab.research.google.com/github/dmitryglhf/jupyter-projects/blob/main/lab_2.ipynb\" target=\"_parent\"><img src=\"https://colab.research.google.com/assets/colab-badge.svg\" alt=\"Open In Colab\"/></a>"
      ]
    },
    {
      "cell_type": "markdown",
      "metadata": {
        "id": "lsLZRkSWIvPt"
      },
      "source": [
        "### Libs"
      ]
    },
    {
      "cell_type": "code",
      "execution_count": 1,
      "metadata": {
        "id": "daCJ18f5IvPy"
      },
      "outputs": [],
      "source": [
        "import numpy as np\n",
        "import pandas as pd\n",
        "import matplotlib.pyplot as plt\n",
        "\n",
        "from sklearn.preprocessing import StandardScaler, LabelEncoder\n",
        "from sklearn.metrics import roc_auc_score as roc_auc\n",
        "from sklearn.model_selection import train_test_split\n",
        "from sklearn.metrics import roc_curve\n",
        "\n",
        "import torch\n",
        "import torch.nn as nn\n",
        "\n",
        "import copy\n",
        "import tqdm"
      ]
    },
    {
      "cell_type": "markdown",
      "source": [
        "# First part"
      ],
      "metadata": {
        "id": "XJcoBhiGc0Sa"
      }
    },
    {
      "cell_type": "markdown",
      "metadata": {
        "id": "5ClzqQtQIvP1"
      },
      "source": [
        "### Wolfe"
      ]
    },
    {
      "cell_type": "code",
      "execution_count": 2,
      "metadata": {
        "id": "QV2T8FI_IvP1"
      },
      "outputs": [],
      "source": [
        "def f(x):\n",
        "    return 0.5 * (x[0]**2 + (x[0] - x[1])**2 + (x[1] - x[2])**2 + x[2]**2) - x[0]"
      ]
    },
    {
      "cell_type": "code",
      "execution_count": 3,
      "metadata": {
        "id": "fbXXCQoQIvP2"
      },
      "outputs": [],
      "source": [
        "# Аналитическое задание градиента\n",
        "def grad_f(x):\n",
        "    grad = np.zeros_like(x)\n",
        "    grad[0] = 2 * x[0] - x[1] - 1  # производная по x1\n",
        "    grad[1] = 2 * x[1] - x[0] - x[2]  # производная по x2\n",
        "    grad[2] = 2 * x[2] - x[1]  # производная по x3\n",
        "    return grad"
      ]
    },
    {
      "cell_type": "code",
      "execution_count": 4,
      "metadata": {
        "id": "4vKd_RCeIvP3"
      },
      "outputs": [],
      "source": [
        "# Численный градиент через конечные разности\n",
        "def grad_kr(f, x, h=1e-5):\n",
        "    grad = np.zeros_like(x)\n",
        "    for i in range(len(x)):\n",
        "        x1 = np.copy(x)\n",
        "        x2 = np.copy(x)\n",
        "        x1[i] += h\n",
        "        x2[i] -= h\n",
        "        grad[i] = (f(x1) - f(x2)) / (2 * h)\n",
        "    return grad"
      ]
    },
    {
      "cell_type": "code",
      "execution_count": 5,
      "metadata": {
        "id": "7-zBzNcqIvP6"
      },
      "outputs": [],
      "source": [
        "def wolfe(f, grad_f, x, p, alpha_max=1, c1=1e-4, c2=0.9, max_iter=100):\n",
        "    def zoom(alpha_low, alpha_high):\n",
        "        \"\"\"Функция поиска шага с интерполяцией (zoom) по условиям Вольфе.\"\"\"\n",
        "        while True:\n",
        "            alpha_j = 0.5 * (alpha_low + alpha_high)\n",
        "            f_x_alpha_j = f(x + alpha_j * p)\n",
        "            f_x_alpha_low = f(x + alpha_low * p)\n",
        "\n",
        "            if (f_x_alpha_j > f(x) + c1 * alpha_j * np.dot(grad_f(x), p)) or (f_x_alpha_j >= f_x_alpha_low):\n",
        "                alpha_high = alpha_j\n",
        "            else:\n",
        "                grad_f_x_alpha_j = np.dot(grad_f(x + alpha_j * p), p)\n",
        "\n",
        "                if np.abs(grad_f_x_alpha_j) <= -c2 * np.dot(grad_f(x), p):\n",
        "                    return alpha_j\n",
        "\n",
        "                if grad_f_x_alpha_j * (alpha_high - alpha_low) >= 0:\n",
        "                    alpha_high = alpha_low\n",
        "\n",
        "                alpha_low = alpha_j\n",
        "\n",
        "    # Начальные значения\n",
        "    alpha_prev = 0\n",
        "    alpha_curr = 0.5 * alpha_max\n",
        "    i = 1\n",
        "\n",
        "    while i <= max_iter:\n",
        "        f_x_alpha_curr = f(x + alpha_curr * p)\n",
        "\n",
        "        if (f_x_alpha_curr > f(x) + c1 * alpha_curr * np.dot(grad_f(x), p)) or (i > 1 and f_x_alpha_curr >= f(x + alpha_prev * p)):\n",
        "            return zoom(alpha_prev, alpha_curr)\n",
        "\n",
        "        grad_f_x_alpha_curr = np.dot(grad_f(x + alpha_curr * p), p)\n",
        "\n",
        "        if np.abs(grad_f_x_alpha_curr) <= -c2 * np.dot(grad_f(x), p):\n",
        "            return alpha_curr\n",
        "\n",
        "        if grad_f_x_alpha_curr >= 0:\n",
        "            return zoom(alpha_prev, alpha_curr)\n",
        "\n",
        "        alpha_prev = alpha_curr\n",
        "        alpha_curr = 0.5 * (alpha_curr + alpha_max)\n",
        "        i += 1\n",
        "\n",
        "    return alpha_curr"
      ]
    },
    {
      "cell_type": "code",
      "source": [
        "def wolfe_kr(f, grad_kr, x, p, alpha_max=1, c1=1e-4, c2=0.9, max_iter=100):\n",
        "    def zoom(alpha_low, alpha_high):\n",
        "        \"\"\"Функция поиска шага с интерполяцией (zoom) по условиям Вольфе.\"\"\"\n",
        "        while True:\n",
        "            alpha_j = 0.5 * (alpha_low + alpha_high)\n",
        "            f_x_alpha_j = f(x + alpha_j * p)\n",
        "            f_x_alpha_low = f(x + alpha_low * p)\n",
        "\n",
        "            if (f_x_alpha_j > f(x) + c1 * alpha_j * np.dot(grad_kr(f,x), p)) or (f_x_alpha_j >= f_x_alpha_low):\n",
        "                alpha_high = alpha_j\n",
        "            else:\n",
        "                grad_f_x_alpha_j = np.dot(grad_kr(f,x + alpha_j * p), p)\n",
        "\n",
        "                if np.abs(grad_f_x_alpha_j) <= -c2 * np.dot(grad_kr(f,x), p):\n",
        "                    return alpha_j\n",
        "\n",
        "                if grad_f_x_alpha_j * (alpha_high - alpha_low) >= 0:\n",
        "                    alpha_high = alpha_low\n",
        "\n",
        "                alpha_low = alpha_j\n",
        "\n",
        "    # Начальные значения\n",
        "    alpha_prev = 0\n",
        "    alpha_curr = 0.5 * alpha_max\n",
        "    i = 1\n",
        "\n",
        "    while i <= max_iter:\n",
        "        f_x_alpha_curr = f(x + alpha_curr * p)\n",
        "\n",
        "        if (f_x_alpha_curr > f(x) + c1 * alpha_curr * np.dot(grad_kr(f,x), p)) or (i > 1 and f_x_alpha_curr >= f(x + alpha_prev * p)):\n",
        "            return zoom(alpha_prev, alpha_curr)\n",
        "\n",
        "        grad_f_x_alpha_curr = np.dot(grad_kr(f,x + alpha_curr * p), p)\n",
        "\n",
        "        if np.abs(grad_f_x_alpha_curr) <= -c2 * np.dot(grad_kr(f,x), p):\n",
        "            return alpha_curr\n",
        "\n",
        "        if grad_f_x_alpha_curr >= 0:\n",
        "            return zoom(alpha_prev, alpha_curr)\n",
        "\n",
        "        alpha_prev = alpha_curr\n",
        "        alpha_curr = 0.5 * (alpha_curr + alpha_max)\n",
        "        i += 1\n",
        "\n",
        "    return alpha_curr"
      ],
      "metadata": {
        "id": "IklXfJDYd3Dj"
      },
      "execution_count": 6,
      "outputs": []
    },
    {
      "cell_type": "markdown",
      "metadata": {
        "id": "lIQ_7YYNIvP7"
      },
      "source": [
        "### BFGS"
      ]
    },
    {
      "cell_type": "code",
      "execution_count": 7,
      "metadata": {
        "id": "CCFsQRyrIvP7"
      },
      "outputs": [],
      "source": [
        "# Реализация алгоритма BFGS\n",
        "def BFGS_grad_f(f, grad_f, x0, max_iter=100, tol=1e-5):\n",
        "    x = np.copy(x0)\n",
        "    H = np.eye(len(x0))  # Инициализация матрицы Гессе\n",
        "    for i in range(max_iter):\n",
        "        grad = grad_f(x)\n",
        "        if np.linalg.norm(grad) < tol:\n",
        "            break\n",
        "        p = -np.dot(H, grad)  # Направление\n",
        "        alpha = wolfe(f, grad_f, x, p)  # Линейный поиск\n",
        "        x_new = x + alpha * p\n",
        "        s = x_new - x\n",
        "        y = grad_f(x_new) - grad\n",
        "        rho = 1.0 / np.dot(y, s)\n",
        "        H = (np.eye(len(x)) - rho * np.outer(s, y)).dot(H).dot(np.eye(len(x)) \\\n",
        "        - rho * np.outer(y, s)) + rho * np.outer(s, s)\n",
        "        x = x_new\n",
        "    return x\n",
        "\n",
        "\n",
        "def BFGS_grad_kr(f, grad_kr, x0, max_iter=100, tol=1e-5):\n",
        "    x = np.copy(x0)\n",
        "    H = np.eye(len(x0))  # Инициализация матрицы Гессе\n",
        "    for i in range(max_iter):\n",
        "        grad = grad_kr(x)\n",
        "        if np.linalg.norm(grad) < tol:\n",
        "            break\n",
        "        p = -np.dot(H, grad)  # Направление\n",
        "        alpha = wolfe(f, grad_kr, x, p)  # Линейный поиск\n",
        "        x_new = x + alpha * p\n",
        "        s = x_new - x\n",
        "        y = grad_kr(x_new) - grad\n",
        "        rho = 1.0 / np.dot(y, s)\n",
        "        H = (np.eye(len(x)) - rho * np.outer(s, y)).dot(H).dot(np.eye(len(x)) \\\n",
        "        - rho * np.outer(y, s)) + rho * np.outer(s, s)\n",
        "        x = x_new\n",
        "    return x"
      ]
    },
    {
      "cell_type": "markdown",
      "metadata": {
        "id": "d4z2SiBaIvP8"
      },
      "source": [
        "### L-BFGS"
      ]
    },
    {
      "cell_type": "markdown",
      "source": [
        "![image.png](data:image/png;base64,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)\n",
        "\n",
        "![image.png](data:image/png;base64,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)/"
      ],
      "metadata": {
        "id": "lqjUCIEmPUCg"
      }
    },
    {
      "cell_type": "code",
      "execution_count": 8,
      "metadata": {
        "id": "IGAUz7cJIvP8"
      },
      "outputs": [],
      "source": [
        "def recursion_two_loop(gradient, s_stored, y_stored, m):\n",
        "    \"\"\"\n",
        "    Реализует двухцикловую рекуррентную процедуру для вычисления направления p_k в L-BFGS.\n",
        "    gradient: текущий градиент функции\n",
        "    s_stored: матрица хранящихся изменений позиций (s_k)\n",
        "    y_stored: матрица хранящихся изменений градиентов (y_k)\n",
        "    m: количество хранящихся векторов s и y (глубина памяти)\n",
        "    \"\"\"\n",
        "    q = gradient  # начальное значение q равно текущему градиенту\n",
        "    a = np.zeros(m)  # массив коэффициентов alpha\n",
        "    rou = np.array([1/np.dot(y_stored[j, :], s_stored[j, :]) for j in range(m)])  # коэффициенты rho\n",
        "\n",
        "    # Первый цикл: обратное прохождение по векторам\n",
        "    for i in range(m):\n",
        "        a[m - 1 - i] = rou[m - 1 - i] * np.dot(s_stored[m - 1 - i, :], q)\n",
        "        q = q - a[m - 1 - i] * y_stored[m - 1 - i, :]\n",
        "\n",
        "    # Инициализация начальной аппроксимации матрицы Гессе\n",
        "    H_k0 = np.dot(s_stored[m - 1], y_stored[m - 1]) / np.dot(y_stored[m - 1], y_stored[m - 1])\n",
        "    r = H_k0 * q  # начальное направление\n",
        "\n",
        "    # Второй цикл: прямое прохождение по векторам\n",
        "    for i in range(m):\n",
        "        beta = rou[i] * np.dot(y_stored[i, :], r)\n",
        "        r = r + (a[i] - beta) * s_stored[i]\n",
        "\n",
        "    return r  # результат - скорректированное направление\n",
        "\n",
        "\n",
        "def L_BFGS_grad_f(f, x0, max_it=100, m=7):\n",
        "    \"\"\"\n",
        "    Алгоритм L-BFGS для поиска минимума функции.\n",
        "    f: функция, минимум которой ищется\n",
        "    x0: начальная точка\n",
        "    max_it: максимальное количество итераций\n",
        "    m: количество хранимых изменений градиентов и позиций (глубина памяти)\n",
        "    \"\"\"\n",
        "    d = len(x0)  # размерность задачи\n",
        "    grad = grad_f(x0)  # начальный градиент в точке x0\n",
        "    x = x0[:]  # текущая позиция (точка)\n",
        "    x_store = np.array([x0])  # для хранения последовательности точек\n",
        "\n",
        "    y_stored = []  # хранилище для векторов y_k\n",
        "    s_stored = []  # хранилище для векторов s_k\n",
        "    p = -grad  # начальное направление поиска - противоположное градиенту\n",
        "    alpha = wolfe(f, grad_f, x, p)  # вычисление шага по направлению с помощью условия Вольфа\n",
        "    s_stored.append(alpha * p)  # сохраняем изменение позиции\n",
        "    grad_old = grad[:]  # сохраняем старый градиент\n",
        "    x = x + alpha * p  # обновляем позицию\n",
        "    grad = grad_f(x)  # вычисляем новый градиент\n",
        "    y_stored.append(grad - grad_old)  # сохраняем изменение градиента\n",
        "    m_ = 1  # начальное количество хранимых векторов (<= m)\n",
        "    it = 1  # текущий номер итерации\n",
        "\n",
        "    x_store = np.append(x_store, [x], axis=0)  # обновление истории точек\n",
        "\n",
        "    # Основной цикл оптимизации\n",
        "    while np.linalg.norm(grad) > 1e-5:  # условие завершения по норме градиента\n",
        "        if it > max_it:  # прерывание, если достигнуто максимальное число итераций\n",
        "            break\n",
        "\n",
        "        if 0 < it < m:  # начальная фаза, когда храним меньше m векторов\n",
        "            p = -recursion_two_loop(grad, np.array(s_stored), np.array(y_stored), m_)\n",
        "            alpha = wolfe(f,  grad_f, x, p)  # шаг по условию Вольфа\n",
        "            s_stored.append(alpha * p)  # сохраняем изменение позиции\n",
        "            grad_old = grad[:]  # сохраняем старый градиент\n",
        "            x = x + alpha * p  # обновляем позицию\n",
        "            grad = grad_f(x)  # вычисляем новый градиент\n",
        "            y_stored.append(grad - grad_old)  # сохраняем изменение градиента\n",
        "            m_ += 1  # увеличиваем число хранимых векторов\n",
        "            it += 1  # увеличиваем счетчик итераций\n",
        "            x_store = np.append(x_store, [x], axis=0)  # обновление истории точек\n",
        "        else:  # основная фаза, когда храним m векторов\n",
        "            p = -recursion_two_loop(grad, np.array(s_stored), np.array(y_stored), m)\n",
        "            alpha = wolfe(f,  grad_f, x, p)\n",
        "\n",
        "            # обновляем и сохраняем вектор s_k+1\n",
        "            s_stored.append(alpha * p)\n",
        "            s_stored.pop(0)  # удаляем старейший вектор, чтобы хранить ровно m векторов\n",
        "\n",
        "            grad_old = grad[:]  # сохраняем старый градиент\n",
        "            x = x + alpha * p  # обновляем позицию\n",
        "            grad = grad_f(x)  # вычисляем новый градиент\n",
        "\n",
        "            # обновляем и сохраняем вектор y_k+1\n",
        "            y_stored.append(grad - grad_old)\n",
        "            y_stored.pop(0)  # удаляем старейший вектор y, чтобы хранить ровно m векторов\n",
        "            it += 1  # увеличиваем счетчик итераций\n",
        "\n",
        "            x_store = np.append(x_store, [x], axis=0)  # обновление истории точек\n",
        "\n",
        "    return x  # возвращаем последнюю точек\n",
        "\n",
        "\n",
        "def L_BFGS_grad_kr(f, x0, max_it=100, m=7):\n",
        "    \"\"\"\n",
        "    Алгоритм L-BFGS для поиска минимума функции.\n",
        "    f: функция, минимум которой ищется\n",
        "    x0: начальная точка\n",
        "    max_it: максимальное количество итераций\n",
        "    m: количество хранимых изменений градиентов и позиций (глубина памяти)\n",
        "    \"\"\"\n",
        "    d = len(x0)  # размерность задачи\n",
        "    grad = grad_kr(f, x0)  # начальный градиент в точке x0\n",
        "    x = x0[:]  # текущая позиция (точка)\n",
        "    x_store = np.array([x0])  # для хранения последовательности точек\n",
        "\n",
        "    y_stored = []  # хранилище для векторов y_k\n",
        "    s_stored = []  # хранилище для векторов s_k\n",
        "    p = -grad  # начальное направление поиска - противоположное градиенту\n",
        "    alpha = wolfe_kr(f,  grad_kr, x, p)  # вычисление шага по направлению с помощью условия Вольфа\n",
        "    s_stored.append(alpha * p)  # сохраняем изменение позиции\n",
        "    grad_old = grad[:]  # сохраняем старый градиент\n",
        "    x = x + alpha * p  # обновляем позицию\n",
        "    grad = grad_kr(f, x)  # вычисляем новый градиент\n",
        "    y_stored.append(grad - grad_old)  # сохраняем изменение градиента\n",
        "    m_ = 1  # начальное количество хранимых векторов (<= m)\n",
        "    it = 1  # текущий номер итерации\n",
        "\n",
        "    x_store = np.append(x_store, [x], axis=0)  # обновление истории точек\n",
        "\n",
        "    # Основной цикл оптимизации\n",
        "    while np.linalg.norm(grad) > 1e-5:  # условие завершения по норме градиента\n",
        "        if it > max_it:  # прерывание, если достигнуто максимальное число итераций\n",
        "            break\n",
        "\n",
        "        if 0 < it < m:  # начальная фаза, когда храним меньше m векторов\n",
        "            p = -recursion_two_loop(grad, np.array(s_stored), np.array(y_stored), m_)\n",
        "            alpha = wolfe_kr(f,  grad_kr, x, p)  # шаг по условию Вольфа\n",
        "            s_stored.append(alpha * p)  # сохраняем изменение позиции\n",
        "            grad_old = grad[:]  # сохраняем старый градиент\n",
        "            x = x + alpha * p  # обновляем позицию\n",
        "            grad = grad_kr(f, x)  # вычисляем новый градиент\n",
        "            y_stored.append(grad - grad_old)  # сохраняем изменение градиента\n",
        "            m_ += 1  # увеличиваем число хранимых векторов\n",
        "            it += 1  # увеличиваем счетчик итераций\n",
        "            x_store = np.append(x_store, [x], axis=0)  # обновление истории точек\n",
        "        else:  # основная фаза, когда храним m векторов\n",
        "            p = -recursion_two_loop(grad, np.array(s_stored), np.array(y_stored), m)\n",
        "            alpha = wolfe_kr(f,  grad_kr, x, p)\n",
        "\n",
        "            # обновляем и сохраняем вектор s_k+1\n",
        "            s_stored.append(alpha * p)\n",
        "            s_stored.pop(0)  # удаляем старейший вектор, чтобы хранить ровно m векторов\n",
        "\n",
        "            grad_old = grad[:]  # сохраняем старый градиент\n",
        "            x = x + alpha * p  # обновляем позицию\n",
        "            grad = grad_kr(f, x)  # вычисляем новый градиент\n",
        "\n",
        "            # обновляем и сохраняем вектор y_k+1\n",
        "            y_stored.append(grad - grad_old)\n",
        "            y_stored.pop(0)  # удаляем старейший вектор y, чтобы хранить ровно m векторов\n",
        "            it += 1  # увеличиваем счетчик итераций\n",
        "\n",
        "            x_store = np.append(x_store, [x], axis=0)  # обновление истории точек\n",
        "\n",
        "    return x # возвращаем последнюю точку"
      ]
    },
    {
      "cell_type": "markdown",
      "source": [
        "### BFGS and L-BFGS comparison"
      ],
      "metadata": {
        "id": "YL7wiULCVwm3"
      }
    },
    {
      "cell_type": "code",
      "source": [
        "x0=[0.0, 0.0, 0.0]\n",
        "\n",
        "# BFGS\n",
        "bfgs_result_analit= BFGS_grad_f(f, lambda x: grad_f(x) ,x0 )\n",
        "bfgs_result_kr = BFGS_grad_kr(f, lambda x: grad_kr(f,x) ,x0 )\n",
        "\n",
        "# L-BFGS\n",
        "f_lbfgs_f = L_BFGS_grad_f(f, x0)\n",
        "f_lbfgs_kr = L_BFGS_grad_kr(f, x0)\n",
        "\n",
        "print(\"BFGS аналит вычисляем градиент при x =\", bfgs_result_analit)\n",
        "print(\"BFGS конечно-разностно вычисляем градиент при x =\", bfgs_result_kr)\n",
        "print(\"LBFGS аналит вычисляем градиент при x =\", f_lbfgs_f)\n",
        "print(\"LBFGS конечно-разностно вычисляем градиент  при x =\", f_lbfgs_kr)"
      ],
      "metadata": {
        "id": "9Gf3OcmgV71_",
        "colab": {
          "base_uri": "https://localhost:8080/"
        },
        "outputId": "2687c912-3719-4d23-eb1e-6e430ec727f4"
      },
      "execution_count": 9,
      "outputs": [
        {
          "output_type": "stream",
          "name": "stdout",
          "text": [
            "BFGS аналит вычисляем градиент при x = [0.74999704 0.49999409 0.24999491]\n",
            "BFGS конечно-разностно вычисляем градиент при x = [0.74999704 0.49999409 0.24999491]\n",
            "LBFGS аналит вычисляем градиент при x = [0.74999396 0.49999259 0.24999193]\n",
            "LBFGS конечно-разностно вычисляем градиент  при x = [0.74999396 0.49999259 0.24999193]\n"
          ]
        }
      ]
    },
    {
      "cell_type": "markdown",
      "source": [
        "# Second part"
      ],
      "metadata": {
        "id": "ayKsEfoocw_t"
      }
    },
    {
      "cell_type": "markdown",
      "metadata": {
        "id": "VUfgSzCyIvP8"
      },
      "source": [
        "### Adam"
      ]
    },
    {
      "cell_type": "markdown",
      "source": [
        "https://medium.com/@weidagang/demystifying-the-adam-optimizer-in-machine-learning-4401d162cb9e\n",
        "\n",
        "- Initialize the model parameters (θ), learning rate (α), and hyper-parameters (β1, β2, and ε).\n",
        "- Compute the gradients (g) of the loss function (L) with respect to the model parameters.\n",
        "\n",
        "![](https://miro.medium.com/v2/resize:fit:400/format:webp/1*mZ3WT9OfmrmTv6cnmqccRA@2x.png)\n",
        "- Update the first moment estimates (m):\n",
        "\n",
        "![](https://miro.medium.com/v2/resize:fit:400/format:webp/1*dnP88VVt0pcvcU7RQTkbTA@2x.png)\n",
        "- Update the second moment estimates (v):\n",
        "\n",
        "![](https://miro.medium.com/v2/resize:fit:400/format:webp/1*DwCaL4CKgwE3JzZFlE_How@2x.png)\n",
        "- Correct the bias in the first (m_hat) and second (v_hat) moment estimates for the current iteration (t):\n",
        "\n",
        "![](https://miro.medium.com/v2/resize:fit:400/format:webp/1*6ZhL15mh0zLSsqWlaYkP1g@2x.png)\n",
        "- Compute the adaptive learning rates (α_t):\n",
        "\n",
        "![](https://miro.medium.com/v2/resize:fit:400/format:webp/1*To-rkzCyP06vNQYr7EGQAQ@2x.png)\n",
        "- Update the model parameters using the adaptive learning rates:\n",
        "\n",
        "![](https://miro.medium.com/v2/resize:fit:400/format:webp/1*y3O6rfmIiTEPtBwDRq7Zqg@2x.png)\n"
      ],
      "metadata": {
        "id": "qQ3riZSsDhQn"
      }
    },
    {
      "cell_type": "code",
      "execution_count": 10,
      "metadata": {
        "id": "1FVg2pS1IvP8"
      },
      "outputs": [],
      "source": [
        "def Adam(params, grads, m, v, t, alpha=0.001, b1=0.9, b2=0.999, e=1e-8):\n",
        "    # Обновление моментов и параметров\n",
        "    for i, (param, grad) in enumerate(zip(params, grads)):\n",
        "        m[i] = b1 * m[i] + (1 - b1) * grad\n",
        "        v[i] = b2 * v[i] + (1 - b2) * grad ** 2\n",
        "\n",
        "        m_hat = m[i] / (1 - b1 ** t)\n",
        "        v_hat = v[i] / (1 - b2 ** t)\n",
        "\n",
        "        # Обновляем параметры\n",
        "        param.data -= alpha * m_hat / (torch.sqrt(v_hat) + e)"
      ]
    },
    {
      "cell_type": "markdown",
      "source": [
        "### Build network"
      ],
      "metadata": {
        "id": "oahLyl06xEZ0"
      }
    },
    {
      "cell_type": "code",
      "source": [
        "class MyNN(nn.Module):\n",
        "    def __init__(self, n):\n",
        "        super().__init__()\n",
        "        self.hidden = nn.Linear(n, n)\n",
        "        self.relu = nn.ReLU()\n",
        "        self.output = nn.Linear(n, 1)\n",
        "        self.sigmoid = nn.Sigmoid()\n",
        "\n",
        "    def forward(self, x):\n",
        "        x = self.relu(self.hidden(x))\n",
        "        x = self.sigmoid(self.output(x))\n",
        "        return x"
      ],
      "metadata": {
        "id": "8ERQC6v0xEyT"
      },
      "execution_count": 11,
      "outputs": []
    },
    {
      "cell_type": "markdown",
      "source": [
        "###### Adam network"
      ],
      "metadata": {
        "id": "v1QOOEdOKJMl"
      }
    },
    {
      "cell_type": "code",
      "source": [
        "def model_train_adam(model, X_train, y_train, X_val, y_val, n_epochs=100):\n",
        "    # Определяем функцию потерь\n",
        "    loss_fn = nn.BCELoss()\n",
        "    batch_size = 10\n",
        "    batch_start = np.arange(0, len(X_train), batch_size)\n",
        "\n",
        "    best_acc = -np.inf\n",
        "    best_weights = None\n",
        "\n",
        "    params = list(model.parameters())\n",
        "    m = [torch.zeros_like(p) for p in params]\n",
        "    v = [torch.zeros_like(p) for p in params]\n",
        "    t = 0  # счетчик времени\n",
        "\n",
        "    for epoch in range(n_epochs):\n",
        "        model.train()\n",
        "        for start in batch_start:\n",
        "            X_batch = X_train[start:start + batch_size]\n",
        "            y_batch = y_train[start:start + batch_size]\n",
        "\n",
        "            X_batch = torch.tensor(X_batch.values, dtype=torch.float32)\n",
        "            y_batch = torch.tensor(y_batch.values, dtype=torch.float32).view(-1, 1)\n",
        "\n",
        "            # Прямой проход (forward pass)\n",
        "            y_pred = model(X_batch)\n",
        "            loss = loss_fn(y_pred, y_batch)\n",
        "\n",
        "            # Обратное распространение ошибки\n",
        "            loss.backward()\n",
        "\n",
        "            # Вычисляем градиенты\n",
        "            grads = [p.grad for p in params]\n",
        "\n",
        "            # Обновляем параметры через Adam\n",
        "            t += 1\n",
        "            Adam(params, grads, m, v, t, alpha=0.0001)\n",
        "\n",
        "            # Обнуляем градиенты после обновления\n",
        "            model.zero_grad()\n",
        "\n",
        "        # Оценка точности валидационного набора\n",
        "        model.eval()\n",
        "        y_pred_val = model(torch.tensor(X_val.values, dtype=torch.float32))\n",
        "        acc = ((y_pred_val.round() == torch.tensor(y_val.values, dtype=torch.float32).view(-1, 1)).float().mean()).item()\n",
        "\n",
        "        if acc > best_acc:\n",
        "            best_acc = acc\n",
        "            best_weights = copy.deepcopy(model.state_dict())\n",
        "\n",
        "    model.load_state_dict(best_weights)\n",
        "    return best_acc"
      ],
      "metadata": {
        "id": "hpFEYu_8xHKw"
      },
      "execution_count": 12,
      "outputs": []
    },
    {
      "cell_type": "markdown",
      "source": [
        "###### BFGS network"
      ],
      "metadata": {
        "id": "KCW2GgJ0L0VD"
      }
    },
    {
      "cell_type": "code",
      "source": [
        "def model_train_bfgs(model, X_train, y_train, X_val, y_val, n_epochs=100, tol=1e-5):\n",
        "    # Define loss function\n",
        "    loss_fn = nn.BCELoss()\n",
        "    best_acc = -np.inf\n",
        "    best_weights = None\n",
        "\n",
        "    # Convert data to PyTorch tensors\n",
        "    X_train_tensor = torch.tensor(X_train.values, dtype=torch.float32)\n",
        "    y_train_tensor = torch.tensor(y_train.values, dtype=torch.float32).view(-1, 1)\n",
        "    X_val_tensor = torch.tensor(X_val.values, dtype=torch.float32)\n",
        "    y_val_tensor = torch.tensor(y_val.values, dtype=torch.float32).view(-1, 1)\n",
        "\n",
        "    # Function to compute loss\n",
        "    def f(x):\n",
        "        # Reshape x into model parameters\n",
        "        start = 0\n",
        "        with torch.no_grad():\n",
        "            for param in model.parameters():\n",
        "                param_size = param.numel()\n",
        "                param.copy_(torch.tensor(x[start:start + param_size]).reshape(param.shape))\n",
        "                start += param_size\n",
        "\n",
        "        # Forward pass\n",
        "        y_pred = model(X_train_tensor)\n",
        "        loss = loss_fn(y_pred, y_train_tensor)\n",
        "        return loss.item()\n",
        "\n",
        "    # Function to compute gradient\n",
        "    def grad_kr(x):\n",
        "        # Reshape x into model parameters\n",
        "        start = 0\n",
        "        with torch.no_grad():\n",
        "            for param in model.parameters():\n",
        "                param_size = param.numel()\n",
        "                param.copy_(torch.tensor(x[start:start + param_size]).reshape(param.shape))\n",
        "                start += param_size\n",
        "\n",
        "        # Forward and backward passes\n",
        "        model.zero_grad()\n",
        "        y_pred = model(X_train_tensor)\n",
        "        loss = loss_fn(y_pred, y_train_tensor)\n",
        "        loss.backward()\n",
        "\n",
        "        # Collect gradients\n",
        "        grad = []\n",
        "        for param in model.parameters():\n",
        "            grad.append(param.grad.numpy().flatten())\n",
        "        return np.concatenate(grad)\n",
        "\n",
        "    for epoch in range(n_epochs):\n",
        "        model.train()\n",
        "\n",
        "        # Get current parameters as numpy array\n",
        "        x0 = []\n",
        "        for param in model.parameters():\n",
        "            x0.append(param.detach().numpy().flatten())\n",
        "        x0 = np.concatenate(x0)\n",
        "\n",
        "        # Optimize using BFGS\n",
        "        x_opt = BFGS_grad_kr(f, grad_kr, x0, tol=tol)\n",
        "\n",
        "        # Update model parameters with optimized values\n",
        "        start = 0\n",
        "        with torch.no_grad():\n",
        "            for param in model.parameters():\n",
        "                param_size = param.numel()\n",
        "                param.copy_(torch.tensor(x_opt[start:start + param_size]).reshape(param.shape))\n",
        "                start += param_size\n",
        "\n",
        "        # Evaluate on validation set\n",
        "        model.eval()\n",
        "        with torch.no_grad():\n",
        "            y_pred_val = model(X_val_tensor)\n",
        "            acc = ((y_pred_val.round() == y_val_tensor).float().mean()).item()\n",
        "\n",
        "        # Save best model\n",
        "        if acc > best_acc:\n",
        "            best_acc = acc\n",
        "            best_weights = copy.deepcopy(model.state_dict())\n",
        "\n",
        "    # Load best weights\n",
        "    model.load_state_dict(best_weights)\n",
        "    return best_acc"
      ],
      "metadata": {
        "id": "kNGZ1lG8L0Gn"
      },
      "execution_count": 13,
      "outputs": []
    },
    {
      "cell_type": "markdown",
      "source": [
        "###### L-BFGS network"
      ],
      "metadata": {
        "id": "daQnL1srxxwv"
      }
    },
    {
      "cell_type": "code",
      "source": [
        "import torch\n",
        "import numpy as np\n",
        "import copy\n",
        "\n",
        "def model_train_lbfgs(model, X_train, y_train, X_val, y_val, n_epochs=100, m=7, tol=1e-5):\n",
        "    # Define loss function\n",
        "    loss_fn = nn.BCELoss()\n",
        "    best_acc = -np.inf\n",
        "    best_weights = None\n",
        "\n",
        "    # Convert data to PyTorch tensors\n",
        "    X_train_tensor = torch.tensor(X_train.values, dtype=torch.float32)\n",
        "    y_train_tensor = torch.tensor(y_train.values, dtype=torch.float32).view(-1, 1)\n",
        "    X_val_tensor = torch.tensor(X_val.values, dtype=torch.float32)\n",
        "    y_val_tensor = torch.tensor(y_val.values, dtype=torch.float32).view(-1, 1)\n",
        "\n",
        "    # Function to compute loss for L-BFGS\n",
        "    def f(x):\n",
        "        # Reshape x into model parameters\n",
        "        start = 0\n",
        "        with torch.no_grad():\n",
        "            for param in model.parameters():\n",
        "                param_size = param.numel()\n",
        "                param.copy_(torch.tensor(x[start:start + param_size]).reshape(param.shape))\n",
        "                start += param_size\n",
        "\n",
        "        # Forward pass\n",
        "        y_pred = model(X_train_tensor)\n",
        "        loss = loss_fn(y_pred, y_train_tensor)\n",
        "        return loss.item()\n",
        "\n",
        "    # Function to get current parameters as numpy array\n",
        "    def get_params():\n",
        "        params = []\n",
        "        for param in model.parameters():\n",
        "            params.append(param.detach().numpy().flatten())\n",
        "        return np.concatenate(params)\n",
        "\n",
        "    # Function to set parameters from numpy array\n",
        "    def set_params(x):\n",
        "        start = 0\n",
        "        with torch.no_grad():\n",
        "            for param in model.parameters():\n",
        "                param_size = param.numel()\n",
        "                param.copy_(torch.tensor(x[start:start + param_size]).reshape(param.shape))\n",
        "                start += param_size\n",
        "\n",
        "    for epoch in range(n_epochs):\n",
        "        model.train()\n",
        "\n",
        "        # Get current parameters as numpy array\n",
        "        x0 = get_params()\n",
        "\n",
        "        # Optimize using L-BFGS\n",
        "        x_opt = L_BFGS_grad_kr(f, x0, max_it=100, m=m)\n",
        "\n",
        "        # Update model parameters with optimized values\n",
        "        set_params(x_opt)\n",
        "\n",
        "        # Evaluate on validation set\n",
        "        model.eval()\n",
        "        with torch.no_grad():\n",
        "            y_pred_val = model(X_val_tensor)\n",
        "            acc = ((y_pred_val.round() == y_val_tensor).float().mean()).item()\n",
        "\n",
        "            # Compute current loss\n",
        "            y_pred_train = model(X_train_tensor)\n",
        "            current_loss = loss_fn(y_pred_train, y_train_tensor).item()\n",
        "\n",
        "        # Save best model\n",
        "        if acc > best_acc:\n",
        "            best_acc = acc\n",
        "            best_weights = copy.deepcopy(model.state_dict())\n",
        "\n",
        "        # Early stopping based on loss\n",
        "        if current_loss < tol:\n",
        "            break\n",
        "\n",
        "    # Load best weights\n",
        "    model.load_state_dict(best_weights)\n",
        "    return best_acc"
      ],
      "metadata": {
        "id": "N1yF45f-x4GP"
      },
      "execution_count": 14,
      "outputs": []
    },
    {
      "cell_type": "markdown",
      "source": [
        "### Data"
      ],
      "metadata": {
        "id": "ny_bLV1ebEDN"
      }
    },
    {
      "cell_type": "code",
      "source": [
        "df = pd.read_csv('/content/Cancer_Data.csv')\n",
        "\n",
        "# to binary\n",
        "encoder = LabelEncoder()\n",
        "df[\"diagnosis\"] = encoder.fit_transform(df[\"diagnosis\"])\n",
        "\n",
        "# clear data\n",
        "columns_to_drop = ['id', 'Unnamed: 32']\n",
        "df.drop(columns_to_drop, axis=1, inplace=True)\n",
        "\n",
        "# 150\n",
        "df = df.head(150)\n",
        "X = df.drop('diagnosis', axis=1)\n",
        "y = df['diagnosis']\n",
        "\n",
        "# кол-во признаков\n",
        "n = X.shape[1]"
      ],
      "metadata": {
        "id": "jn1TVODVbFq9"
      },
      "execution_count": 15,
      "outputs": []
    },
    {
      "cell_type": "code",
      "source": [
        "X_train, X_test, y_train, y_test = train_test_split(X, y, train_size=0.7, shuffle=True)"
      ],
      "metadata": {
        "id": "3UuaFY_Vbxco"
      },
      "execution_count": 16,
      "outputs": []
    },
    {
      "cell_type": "markdown",
      "source": [
        "### Results"
      ],
      "metadata": {
        "id": "tesl9zLxwBtz"
      }
    },
    {
      "cell_type": "code",
      "source": [
        "model_adam = MyNN(n)\n",
        "model_bfgs = MyNN(n)\n",
        "model_lbfgs = MyNN(n)"
      ],
      "metadata": {
        "id": "9nBtfY7Ox6h4",
        "collapsed": true
      },
      "execution_count": 17,
      "outputs": []
    },
    {
      "cell_type": "code",
      "source": [
        "# Adam optimizer\n",
        "adam_acc = model_train_adam(model_adam, X_train, y_train, X_test, y_test, n_epochs=100)\n",
        "print(f\"Best Adam accuracy: {adam_acc*100:.2f}%\")"
      ],
      "metadata": {
        "id": "9Qx7CrTWZdOL",
        "colab": {
          "base_uri": "https://localhost:8080/"
        },
        "outputId": "eb7e4dfb-42e5-4b47-ee39-aad81d5aa346"
      },
      "execution_count": 18,
      "outputs": [
        {
          "output_type": "stream",
          "name": "stdout",
          "text": [
            "Best Adam accuracy: 93.33%\n"
          ]
        }
      ]
    },
    {
      "cell_type": "code",
      "source": [
        "# BFGS optimizer\n",
        "bfgs_acc = model_train_bfgs(model_bfgs, X_train, y_train, X_test, y_test, n_epochs=100)\n",
        "print(f\"Best BFGS accuracy: {bfgs_acc*100:.2f}%\")"
      ],
      "metadata": {
        "id": "jpYdIJ_cZiY4"
      },
      "execution_count": null,
      "outputs": []
    },
    {
      "cell_type": "code",
      "source": [
        "# L-BFGS optimizer\n",
        "lbfgs_acc = model_train_lbfgs(model_lbfgs, X_train, y_train, X_test, y_test, n_epochs=100)\n",
        "print(f\"Best L-BFGS accuracy: {lbfgs_acc*100:.2f}%\")"
      ],
      "metadata": {
        "id": "HZHSMMNNZhP5"
      },
      "execution_count": null,
      "outputs": []
    },
    {
      "cell_type": "markdown",
      "source": [
        "BFGS:\n",
        "- Быстро сходится на небольших задачах, но требует много памяти.\n",
        "- Чувствителен к плохой начальной точке.\n",
        "\n",
        "L-BFGS:\n",
        "- Подходит для больших задач, так как использует ограниченную память.\n",
        "- Требует настройки параметра количества хранимых градиентов (memory).\n",
        "\n",
        "Adam:\n",
        "- Подходит для задач с большими наборами данных или шумными функциями потерь.\n",
        "- Чувствителен к выбору коэффициента обучения.\n",
        "- Моментные коэффициенты могут повлиять на скорость сходимости."
      ],
      "metadata": {
        "id": "7i1VkHiKwDVT"
      }
    },
    {
      "cell_type": "markdown",
      "source": [
        "Таким образом, основное сравнение сводится к тому, что Adam гораздо лучше подходит для больших сетей и сложных задач, в то время как L-BFGS (и тем более BFGS) могут быть полезны для более простых моделей и небольших задач, где требуется высокая точность в оптимизации."
      ],
      "metadata": {
        "id": "IfDB3WaVyQ-x"
      }
    },
    {
      "cell_type": "code",
      "source": [],
      "metadata": {
        "id": "UV2NGWyuyRXP"
      },
      "execution_count": null,
      "outputs": []
    }
  ],
  "metadata": {
    "kernelspec": {
      "display_name": "base",
      "language": "python",
      "name": "python3"
    },
    "language_info": {
      "codemirror_mode": {
        "name": "ipython",
        "version": 3
      },
      "file_extension": ".py",
      "mimetype": "text/x-python",
      "name": "python",
      "nbconvert_exporter": "python",
      "pygments_lexer": "ipython3",
      "version": "3.11.7"
    },
    "colab": {
      "provenance": [],
      "include_colab_link": true
    }
  },
  "nbformat": 4,
  "nbformat_minor": 0
}