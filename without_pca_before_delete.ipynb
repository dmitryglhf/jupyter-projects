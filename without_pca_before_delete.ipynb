{
  "nbformat": 4,
  "nbformat_minor": 0,
  "metadata": {
    "colab": {
      "provenance": [],
      "include_colab_link": true
    },
    "kernelspec": {
      "name": "python3",
      "display_name": "Python 3"
    },
    "language_info": {
      "name": "python"
    }
  },
  "cells": [
    {
      "cell_type": "markdown",
      "metadata": {
        "id": "view-in-github",
        "colab_type": "text"
      },
      "source": [
        "<a href=\"https://colab.research.google.com/github/dmitryglhf/jupyter-projects/blob/main/without_pca_before_delete.ipynb\" target=\"_parent\"><img src=\"https://colab.research.google.com/assets/colab-badge.svg\" alt=\"Open In Colab\"/></a>"
      ]
    },
    {
      "cell_type": "code",
      "source": [
        "import numpy as np\n",
        "import pandas as pd\n",
        "import matplotlib.pyplot as plt\n",
        "\n",
        "from sklearn.preprocessing import StandardScaler, LabelEncoder\n",
        "from sklearn.metrics import roc_auc_score as roc_auc\n",
        "from sklearn.model_selection import train_test_split\n",
        "from sklearn.metrics import roc_curve\n",
        "\n",
        "import torch\n",
        "import torch.nn as nn\n",
        "import copy\n",
        "import torch.optim as optim\n",
        "import tqdm"
      ],
      "metadata": {
        "id": "BNaZEC2LDBSJ"
      },
      "execution_count": 1,
      "outputs": []
    },
    {
      "cell_type": "markdown",
      "source": [
        "### Functions"
      ],
      "metadata": {
        "id": "gAPWSbedDCGU"
      }
    },
    {
      "cell_type": "code",
      "source": [
        "def householder(a):\n",
        "    v = a.copy()\n",
        "    v[0] += np.sign(v[0]) * np.linalg.norm(a)\n",
        "    v_dot = np.dot(v, v)\n",
        "\n",
        "    if v_dot == 0:\n",
        "        H = np.eye(len(a))\n",
        "    else:\n",
        "        H = np.eye(len(a)) - 2 * np.outer(v, v) / v_dot\n",
        "    return H\n",
        "\n",
        "def get_qr(A):\n",
        "    n = A.shape[0]\n",
        "    Q = np.eye(n)\n",
        "    R = A.copy()\n",
        "\n",
        "    for j in range(n):\n",
        "        a = R[j:, j]\n",
        "        H = householder(a)\n",
        "        R[j:, j:] = H @ R[j:, j:]\n",
        "        Q[:, j:] = Q[:, j:] @ H.T\n",
        "\n",
        "    return Q, R\n",
        "\n",
        "def eig(A, e=1e-10, max_iter=1000):\n",
        "    Ak = A.copy()\n",
        "    eig_vectors = np.eye(A.shape[0])\n",
        "\n",
        "    for i in range(max_iter):\n",
        "        Q, R = get_qr(Ak)\n",
        "        Ak = np.dot(R, Q)\n",
        "        eig_vectors = np.dot(eig_vectors, Q)\n",
        "\n",
        "        off_diag_norm = np.sqrt(np.sum(np.tril(Ak, -1) ** 2))\n",
        "        if off_diag_norm < e:\n",
        "            break\n",
        "\n",
        "    eig_values = np.diag(Ak)\n",
        "    return eig_values, eig_vectors\n",
        "\n",
        "def svd(A):\n",
        "    temp_U = A @ A.T\n",
        "    eig_values_U, U = eig(temp_U)\n",
        "\n",
        "    idx_U = np.argsort(eig_values_U)[::-1]\n",
        "    eig_values_U = eig_values_U[idx_U]\n",
        "    U = U[:, idx_U]\n",
        "\n",
        "    sigma = np.zeros((A.shape[0], A.shape[1]))\n",
        "    for i in range(min(A.shape[0], A.shape[1])):\n",
        "        sigma[i, i] = np.sqrt(eig_values_U[i]) if eig_values_U[i] > 0 else 0\n",
        "\n",
        "    sigma_inv = np.zeros_like(sigma.T)\n",
        "    for i in range(min(A.shape[0], A.shape[1])):\n",
        "        if sigma[i, i] > 0:\n",
        "            sigma_inv[i, i] = 1 / sigma[i, i]\n",
        "\n",
        "    V_T = sigma_inv @ U.T @ A\n",
        "    S = np.diag(sigma)\n",
        "    return U, S, V_T\n",
        "\n",
        "def n_components(S):\n",
        "    exp_var = S[0] / S.sum()\n",
        "    k = 1\n",
        "    while exp_var < 0.95:\n",
        "        exp_var += S[k] / S.sum()\n",
        "        k += 1\n",
        "    return k, exp_var\n",
        "\n",
        "def pca(X):\n",
        "    U, S, V_T = svd(X)\n",
        "\n",
        "    # Определение числа главных компонент\n",
        "    k, exp_var = n_components(S)\n",
        "\n",
        "    # Обрезаем матрицу до первых k компонент\n",
        "    U_reduced = U[:, :k]\n",
        "    sigma_reduced = np.diag(S[:k])\n",
        "\n",
        "    # Возвращаем проекцию данных на первые k компонент\n",
        "    X_reduced = U_reduced @ sigma_reduced\n",
        "\n",
        "    print(f'Число главных компонент: {k}')\n",
        "    print(f'Доля объяснённой дисперсии: {exp_var}')\n",
        "\n",
        "    return X_reduced"
      ],
      "metadata": {
        "id": "lWoC6BNUAv6s"
      },
      "execution_count": 2,
      "outputs": []
    },
    {
      "cell_type": "markdown",
      "source": [
        "### Data"
      ],
      "metadata": {
        "id": "7WwKq8hqDYoS"
      }
    },
    {
      "cell_type": "code",
      "source": [
        "data = pd.read_csv('/content/Cancer_Data.csv')\n",
        "\n",
        "# Преобразование категориальной переменной в бинарную\n",
        "encoder = LabelEncoder()\n",
        "data[\"diagnosis\"] = encoder.fit_transform(data[\"diagnosis\"])\n",
        "\n",
        "# Удаление ненужных столбцов\n",
        "columns_to_drop = ['id', 'Unnamed: 32']\n",
        "data.drop(columns_to_drop, axis=1, inplace=True)\n",
        "\n",
        "# Пример для первых 100 строк данных\n",
        "data = data.head(100)\n",
        "X = data.drop('diagnosis', axis=1)\n",
        "y = data[\"diagnosis\"]\n",
        "\n",
        "# Стандартизация данных (рекомендуется перед PCA)\n",
        "scaler = StandardScaler()\n",
        "X_scaled = scaler.fit_transform(X)"
      ],
      "metadata": {
        "id": "jM-7T5iDDaKJ"
      },
      "execution_count": 3,
      "outputs": []
    },
    {
      "cell_type": "markdown",
      "source": [
        "### PCA"
      ],
      "metadata": {
        "id": "4v6wL_LpDHHe"
      }
    },
    {
      "cell_type": "code",
      "source": [
        "# Применение PCA\n",
        "X_pca = pca(X_scaled)\n",
        "\n",
        "pd.DataFrame(X_pca)"
      ],
      "metadata": {
        "colab": {
          "base_uri": "https://localhost:8080/",
          "height": 478
        },
        "id": "4sjSZI0SB68f",
        "outputId": "d3d510ca-cb99-4ef0-beb7-25c0235ac1c3"
      },
      "execution_count": 4,
      "outputs": [
        {
          "output_type": "stream",
          "name": "stdout",
          "text": [
            "Число главных компонент: 20\n",
            "Доля объяснённой дисперсии: 0.9528522436783151\n"
          ]
        },
        {
          "output_type": "execute_result",
          "data": {
            "text/plain": [
              "          0         1         2         3         4         5         6   \\\n",
              "0  -7.698317  0.532763  1.249266 -4.133955  0.582280  0.336022  1.073617   \n",
              "1  -1.025756 -4.381798 -0.113901 -1.325354 -0.836517 -0.397181  0.761768   \n",
              "2  -4.319619 -1.944501  0.176846 -1.002918 -0.250656 -0.041882 -0.269054   \n",
              "3  -5.384167  8.837381 -1.010850 -0.804257  1.311130  1.778690  0.244014   \n",
              "4  -2.493849 -2.710930  2.383542 -2.558932 -0.333734 -2.128060 -1.010054   \n",
              "..       ...       ...       ...       ...       ...       ...       ...   \n",
              "95 -3.063363 -3.050409  0.657323  0.803240 -0.367183  0.969333  0.174126   \n",
              "96  3.876201  0.005126  1.440454  0.088238  0.419205  0.664034  0.631704   \n",
              "97  5.268532  1.001590  1.289408  1.646462  1.892163 -1.574276  0.259727   \n",
              "98  4.320335  0.434070 -0.472230 -1.959653 -0.690247 -0.438932  0.518925   \n",
              "99  0.907718  0.167752 -0.088247  1.326716  0.213934 -0.660669 -0.079346   \n",
              "\n",
              "          7         8         9         10        11        12        13  \\\n",
              "0   0.566447  1.520837  1.169802  0.322455  0.011012 -0.647530 -0.847642   \n",
              "1  -0.315427 -0.717176  0.259801 -0.673218  0.799430  0.585450 -0.062937   \n",
              "2   0.206476 -0.558500 -0.741435  0.186252 -0.249968  0.392534  0.394601   \n",
              "3  -0.957489 -0.452674  0.696714  1.363856  0.032927  1.066428 -0.114981   \n",
              "4   0.062399 -0.646078  0.151305 -0.267738  0.107604 -0.432225 -0.214917   \n",
              "..       ...       ...       ...       ...       ...       ...       ...   \n",
              "95 -1.066526 -0.321059  0.341979 -0.815038  0.087351 -0.444846  0.206917   \n",
              "96  1.249879 -0.128085 -0.376356 -0.063584 -0.297937  0.389942  0.008724   \n",
              "97 -0.363962  0.210541  1.037690  0.135278 -0.016705 -0.106058 -0.235547   \n",
              "98  0.285875  0.083751  0.544774  0.415527 -0.027166  0.058717 -0.501785   \n",
              "99  0.548851 -0.512750 -0.091610 -0.227796  1.100850 -0.376366  0.090019   \n",
              "\n",
              "          14        15        16        17        18        19  \n",
              "0  -0.713078  0.293024  0.212631 -0.054658 -0.181162 -0.154020  \n",
              "1   0.753668 -0.255414  0.071656  0.145538  0.139257  0.064420  \n",
              "2   0.239482  0.518742  0.188144 -0.038077  0.244619  0.359709  \n",
              "3   0.669573  0.373267  0.173543 -0.201194 -0.010215  0.231115  \n",
              "4   0.739378  0.078386 -0.304813 -0.094245 -0.064803 -0.323726  \n",
              "..       ...       ...       ...       ...       ...       ...  \n",
              "95  0.186903  0.138435 -0.004865 -0.322867  0.152219  0.137081  \n",
              "96  0.428363 -0.286223  0.330497  0.216788 -0.202625  0.067788  \n",
              "97  0.232743  0.270653  0.406061 -0.034578 -0.237364 -0.153783  \n",
              "98 -0.033663 -0.010539 -0.375240  0.121519  0.186200  0.149401  \n",
              "99 -0.147004 -0.115522 -0.003881 -0.112071  0.058624 -0.068827  \n",
              "\n",
              "[100 rows x 20 columns]"
            ],
            "text/html": [
              "\n",
              "  <div id=\"df-706cf620-164d-4c7b-a432-c0b3c037bd0c\" class=\"colab-df-container\">\n",
              "    <div>\n",
              "<style scoped>\n",
              "    .dataframe tbody tr th:only-of-type {\n",
              "        vertical-align: middle;\n",
              "    }\n",
              "\n",
              "    .dataframe tbody tr th {\n",
              "        vertical-align: top;\n",
              "    }\n",
              "\n",
              "    .dataframe thead th {\n",
              "        text-align: right;\n",
              "    }\n",
              "</style>\n",
              "<table border=\"1\" class=\"dataframe\">\n",
              "  <thead>\n",
              "    <tr style=\"text-align: right;\">\n",
              "      <th></th>\n",
              "      <th>0</th>\n",
              "      <th>1</th>\n",
              "      <th>2</th>\n",
              "      <th>3</th>\n",
              "      <th>4</th>\n",
              "      <th>5</th>\n",
              "      <th>6</th>\n",
              "      <th>7</th>\n",
              "      <th>8</th>\n",
              "      <th>9</th>\n",
              "      <th>10</th>\n",
              "      <th>11</th>\n",
              "      <th>12</th>\n",
              "      <th>13</th>\n",
              "      <th>14</th>\n",
              "      <th>15</th>\n",
              "      <th>16</th>\n",
              "      <th>17</th>\n",
              "      <th>18</th>\n",
              "      <th>19</th>\n",
              "    </tr>\n",
              "  </thead>\n",
              "  <tbody>\n",
              "    <tr>\n",
              "      <th>0</th>\n",
              "      <td>-7.698317</td>\n",
              "      <td>0.532763</td>\n",
              "      <td>1.249266</td>\n",
              "      <td>-4.133955</td>\n",
              "      <td>0.582280</td>\n",
              "      <td>0.336022</td>\n",
              "      <td>1.073617</td>\n",
              "      <td>0.566447</td>\n",
              "      <td>1.520837</td>\n",
              "      <td>1.169802</td>\n",
              "      <td>0.322455</td>\n",
              "      <td>0.011012</td>\n",
              "      <td>-0.647530</td>\n",
              "      <td>-0.847642</td>\n",
              "      <td>-0.713078</td>\n",
              "      <td>0.293024</td>\n",
              "      <td>0.212631</td>\n",
              "      <td>-0.054658</td>\n",
              "      <td>-0.181162</td>\n",
              "      <td>-0.154020</td>\n",
              "    </tr>\n",
              "    <tr>\n",
              "      <th>1</th>\n",
              "      <td>-1.025756</td>\n",
              "      <td>-4.381798</td>\n",
              "      <td>-0.113901</td>\n",
              "      <td>-1.325354</td>\n",
              "      <td>-0.836517</td>\n",
              "      <td>-0.397181</td>\n",
              "      <td>0.761768</td>\n",
              "      <td>-0.315427</td>\n",
              "      <td>-0.717176</td>\n",
              "      <td>0.259801</td>\n",
              "      <td>-0.673218</td>\n",
              "      <td>0.799430</td>\n",
              "      <td>0.585450</td>\n",
              "      <td>-0.062937</td>\n",
              "      <td>0.753668</td>\n",
              "      <td>-0.255414</td>\n",
              "      <td>0.071656</td>\n",
              "      <td>0.145538</td>\n",
              "      <td>0.139257</td>\n",
              "      <td>0.064420</td>\n",
              "    </tr>\n",
              "    <tr>\n",
              "      <th>2</th>\n",
              "      <td>-4.319619</td>\n",
              "      <td>-1.944501</td>\n",
              "      <td>0.176846</td>\n",
              "      <td>-1.002918</td>\n",
              "      <td>-0.250656</td>\n",
              "      <td>-0.041882</td>\n",
              "      <td>-0.269054</td>\n",
              "      <td>0.206476</td>\n",
              "      <td>-0.558500</td>\n",
              "      <td>-0.741435</td>\n",
              "      <td>0.186252</td>\n",
              "      <td>-0.249968</td>\n",
              "      <td>0.392534</td>\n",
              "      <td>0.394601</td>\n",
              "      <td>0.239482</td>\n",
              "      <td>0.518742</td>\n",
              "      <td>0.188144</td>\n",
              "      <td>-0.038077</td>\n",
              "      <td>0.244619</td>\n",
              "      <td>0.359709</td>\n",
              "    </tr>\n",
              "    <tr>\n",
              "      <th>3</th>\n",
              "      <td>-5.384167</td>\n",
              "      <td>8.837381</td>\n",
              "      <td>-1.010850</td>\n",
              "      <td>-0.804257</td>\n",
              "      <td>1.311130</td>\n",
              "      <td>1.778690</td>\n",
              "      <td>0.244014</td>\n",
              "      <td>-0.957489</td>\n",
              "      <td>-0.452674</td>\n",
              "      <td>0.696714</td>\n",
              "      <td>1.363856</td>\n",
              "      <td>0.032927</td>\n",
              "      <td>1.066428</td>\n",
              "      <td>-0.114981</td>\n",
              "      <td>0.669573</td>\n",
              "      <td>0.373267</td>\n",
              "      <td>0.173543</td>\n",
              "      <td>-0.201194</td>\n",
              "      <td>-0.010215</td>\n",
              "      <td>0.231115</td>\n",
              "    </tr>\n",
              "    <tr>\n",
              "      <th>4</th>\n",
              "      <td>-2.493849</td>\n",
              "      <td>-2.710930</td>\n",
              "      <td>2.383542</td>\n",
              "      <td>-2.558932</td>\n",
              "      <td>-0.333734</td>\n",
              "      <td>-2.128060</td>\n",
              "      <td>-1.010054</td>\n",
              "      <td>0.062399</td>\n",
              "      <td>-0.646078</td>\n",
              "      <td>0.151305</td>\n",
              "      <td>-0.267738</td>\n",
              "      <td>0.107604</td>\n",
              "      <td>-0.432225</td>\n",
              "      <td>-0.214917</td>\n",
              "      <td>0.739378</td>\n",
              "      <td>0.078386</td>\n",
              "      <td>-0.304813</td>\n",
              "      <td>-0.094245</td>\n",
              "      <td>-0.064803</td>\n",
              "      <td>-0.323726</td>\n",
              "    </tr>\n",
              "    <tr>\n",
              "      <th>...</th>\n",
              "      <td>...</td>\n",
              "      <td>...</td>\n",
              "      <td>...</td>\n",
              "      <td>...</td>\n",
              "      <td>...</td>\n",
              "      <td>...</td>\n",
              "      <td>...</td>\n",
              "      <td>...</td>\n",
              "      <td>...</td>\n",
              "      <td>...</td>\n",
              "      <td>...</td>\n",
              "      <td>...</td>\n",
              "      <td>...</td>\n",
              "      <td>...</td>\n",
              "      <td>...</td>\n",
              "      <td>...</td>\n",
              "      <td>...</td>\n",
              "      <td>...</td>\n",
              "      <td>...</td>\n",
              "      <td>...</td>\n",
              "    </tr>\n",
              "    <tr>\n",
              "      <th>95</th>\n",
              "      <td>-3.063363</td>\n",
              "      <td>-3.050409</td>\n",
              "      <td>0.657323</td>\n",
              "      <td>0.803240</td>\n",
              "      <td>-0.367183</td>\n",
              "      <td>0.969333</td>\n",
              "      <td>0.174126</td>\n",
              "      <td>-1.066526</td>\n",
              "      <td>-0.321059</td>\n",
              "      <td>0.341979</td>\n",
              "      <td>-0.815038</td>\n",
              "      <td>0.087351</td>\n",
              "      <td>-0.444846</td>\n",
              "      <td>0.206917</td>\n",
              "      <td>0.186903</td>\n",
              "      <td>0.138435</td>\n",
              "      <td>-0.004865</td>\n",
              "      <td>-0.322867</td>\n",
              "      <td>0.152219</td>\n",
              "      <td>0.137081</td>\n",
              "    </tr>\n",
              "    <tr>\n",
              "      <th>96</th>\n",
              "      <td>3.876201</td>\n",
              "      <td>0.005126</td>\n",
              "      <td>1.440454</td>\n",
              "      <td>0.088238</td>\n",
              "      <td>0.419205</td>\n",
              "      <td>0.664034</td>\n",
              "      <td>0.631704</td>\n",
              "      <td>1.249879</td>\n",
              "      <td>-0.128085</td>\n",
              "      <td>-0.376356</td>\n",
              "      <td>-0.063584</td>\n",
              "      <td>-0.297937</td>\n",
              "      <td>0.389942</td>\n",
              "      <td>0.008724</td>\n",
              "      <td>0.428363</td>\n",
              "      <td>-0.286223</td>\n",
              "      <td>0.330497</td>\n",
              "      <td>0.216788</td>\n",
              "      <td>-0.202625</td>\n",
              "      <td>0.067788</td>\n",
              "    </tr>\n",
              "    <tr>\n",
              "      <th>97</th>\n",
              "      <td>5.268532</td>\n",
              "      <td>1.001590</td>\n",
              "      <td>1.289408</td>\n",
              "      <td>1.646462</td>\n",
              "      <td>1.892163</td>\n",
              "      <td>-1.574276</td>\n",
              "      <td>0.259727</td>\n",
              "      <td>-0.363962</td>\n",
              "      <td>0.210541</td>\n",
              "      <td>1.037690</td>\n",
              "      <td>0.135278</td>\n",
              "      <td>-0.016705</td>\n",
              "      <td>-0.106058</td>\n",
              "      <td>-0.235547</td>\n",
              "      <td>0.232743</td>\n",
              "      <td>0.270653</td>\n",
              "      <td>0.406061</td>\n",
              "      <td>-0.034578</td>\n",
              "      <td>-0.237364</td>\n",
              "      <td>-0.153783</td>\n",
              "    </tr>\n",
              "    <tr>\n",
              "      <th>98</th>\n",
              "      <td>4.320335</td>\n",
              "      <td>0.434070</td>\n",
              "      <td>-0.472230</td>\n",
              "      <td>-1.959653</td>\n",
              "      <td>-0.690247</td>\n",
              "      <td>-0.438932</td>\n",
              "      <td>0.518925</td>\n",
              "      <td>0.285875</td>\n",
              "      <td>0.083751</td>\n",
              "      <td>0.544774</td>\n",
              "      <td>0.415527</td>\n",
              "      <td>-0.027166</td>\n",
              "      <td>0.058717</td>\n",
              "      <td>-0.501785</td>\n",
              "      <td>-0.033663</td>\n",
              "      <td>-0.010539</td>\n",
              "      <td>-0.375240</td>\n",
              "      <td>0.121519</td>\n",
              "      <td>0.186200</td>\n",
              "      <td>0.149401</td>\n",
              "    </tr>\n",
              "    <tr>\n",
              "      <th>99</th>\n",
              "      <td>0.907718</td>\n",
              "      <td>0.167752</td>\n",
              "      <td>-0.088247</td>\n",
              "      <td>1.326716</td>\n",
              "      <td>0.213934</td>\n",
              "      <td>-0.660669</td>\n",
              "      <td>-0.079346</td>\n",
              "      <td>0.548851</td>\n",
              "      <td>-0.512750</td>\n",
              "      <td>-0.091610</td>\n",
              "      <td>-0.227796</td>\n",
              "      <td>1.100850</td>\n",
              "      <td>-0.376366</td>\n",
              "      <td>0.090019</td>\n",
              "      <td>-0.147004</td>\n",
              "      <td>-0.115522</td>\n",
              "      <td>-0.003881</td>\n",
              "      <td>-0.112071</td>\n",
              "      <td>0.058624</td>\n",
              "      <td>-0.068827</td>\n",
              "    </tr>\n",
              "  </tbody>\n",
              "</table>\n",
              "<p>100 rows × 20 columns</p>\n",
              "</div>\n",
              "    <div class=\"colab-df-buttons\">\n",
              "\n",
              "  <div class=\"colab-df-container\">\n",
              "    <button class=\"colab-df-convert\" onclick=\"convertToInteractive('df-706cf620-164d-4c7b-a432-c0b3c037bd0c')\"\n",
              "            title=\"Convert this dataframe to an interactive table.\"\n",
              "            style=\"display:none;\">\n",
              "\n",
              "  <svg xmlns=\"http://www.w3.org/2000/svg\" height=\"24px\" viewBox=\"0 -960 960 960\">\n",
              "    <path d=\"M120-120v-720h720v720H120Zm60-500h600v-160H180v160Zm220 220h160v-160H400v160Zm0 220h160v-160H400v160ZM180-400h160v-160H180v160Zm440 0h160v-160H620v160ZM180-180h160v-160H180v160Zm440 0h160v-160H620v160Z\"/>\n",
              "  </svg>\n",
              "    </button>\n",
              "\n",
              "  <style>\n",
              "    .colab-df-container {\n",
              "      display:flex;\n",
              "      gap: 12px;\n",
              "    }\n",
              "\n",
              "    .colab-df-convert {\n",
              "      background-color: #E8F0FE;\n",
              "      border: none;\n",
              "      border-radius: 50%;\n",
              "      cursor: pointer;\n",
              "      display: none;\n",
              "      fill: #1967D2;\n",
              "      height: 32px;\n",
              "      padding: 0 0 0 0;\n",
              "      width: 32px;\n",
              "    }\n",
              "\n",
              "    .colab-df-convert:hover {\n",
              "      background-color: #E2EBFA;\n",
              "      box-shadow: 0px 1px 2px rgba(60, 64, 67, 0.3), 0px 1px 3px 1px rgba(60, 64, 67, 0.15);\n",
              "      fill: #174EA6;\n",
              "    }\n",
              "\n",
              "    .colab-df-buttons div {\n",
              "      margin-bottom: 4px;\n",
              "    }\n",
              "\n",
              "    [theme=dark] .colab-df-convert {\n",
              "      background-color: #3B4455;\n",
              "      fill: #D2E3FC;\n",
              "    }\n",
              "\n",
              "    [theme=dark] .colab-df-convert:hover {\n",
              "      background-color: #434B5C;\n",
              "      box-shadow: 0px 1px 3px 1px rgba(0, 0, 0, 0.15);\n",
              "      filter: drop-shadow(0px 1px 2px rgba(0, 0, 0, 0.3));\n",
              "      fill: #FFFFFF;\n",
              "    }\n",
              "  </style>\n",
              "\n",
              "    <script>\n",
              "      const buttonEl =\n",
              "        document.querySelector('#df-706cf620-164d-4c7b-a432-c0b3c037bd0c button.colab-df-convert');\n",
              "      buttonEl.style.display =\n",
              "        google.colab.kernel.accessAllowed ? 'block' : 'none';\n",
              "\n",
              "      async function convertToInteractive(key) {\n",
              "        const element = document.querySelector('#df-706cf620-164d-4c7b-a432-c0b3c037bd0c');\n",
              "        const dataTable =\n",
              "          await google.colab.kernel.invokeFunction('convertToInteractive',\n",
              "                                                    [key], {});\n",
              "        if (!dataTable) return;\n",
              "\n",
              "        const docLinkHtml = 'Like what you see? Visit the ' +\n",
              "          '<a target=\"_blank\" href=https://colab.research.google.com/notebooks/data_table.ipynb>data table notebook</a>'\n",
              "          + ' to learn more about interactive tables.';\n",
              "        element.innerHTML = '';\n",
              "        dataTable['output_type'] = 'display_data';\n",
              "        await google.colab.output.renderOutput(dataTable, element);\n",
              "        const docLink = document.createElement('div');\n",
              "        docLink.innerHTML = docLinkHtml;\n",
              "        element.appendChild(docLink);\n",
              "      }\n",
              "    </script>\n",
              "  </div>\n",
              "\n",
              "\n",
              "<div id=\"df-e6bf92b4-7ad3-4de6-9fbd-196489b38a4e\">\n",
              "  <button class=\"colab-df-quickchart\" onclick=\"quickchart('df-e6bf92b4-7ad3-4de6-9fbd-196489b38a4e')\"\n",
              "            title=\"Suggest charts\"\n",
              "            style=\"display:none;\">\n",
              "\n",
              "<svg xmlns=\"http://www.w3.org/2000/svg\" height=\"24px\"viewBox=\"0 0 24 24\"\n",
              "     width=\"24px\">\n",
              "    <g>\n",
              "        <path d=\"M19 3H5c-1.1 0-2 .9-2 2v14c0 1.1.9 2 2 2h14c1.1 0 2-.9 2-2V5c0-1.1-.9-2-2-2zM9 17H7v-7h2v7zm4 0h-2V7h2v10zm4 0h-2v-4h2v4z\"/>\n",
              "    </g>\n",
              "</svg>\n",
              "  </button>\n",
              "\n",
              "<style>\n",
              "  .colab-df-quickchart {\n",
              "      --bg-color: #E8F0FE;\n",
              "      --fill-color: #1967D2;\n",
              "      --hover-bg-color: #E2EBFA;\n",
              "      --hover-fill-color: #174EA6;\n",
              "      --disabled-fill-color: #AAA;\n",
              "      --disabled-bg-color: #DDD;\n",
              "  }\n",
              "\n",
              "  [theme=dark] .colab-df-quickchart {\n",
              "      --bg-color: #3B4455;\n",
              "      --fill-color: #D2E3FC;\n",
              "      --hover-bg-color: #434B5C;\n",
              "      --hover-fill-color: #FFFFFF;\n",
              "      --disabled-bg-color: #3B4455;\n",
              "      --disabled-fill-color: #666;\n",
              "  }\n",
              "\n",
              "  .colab-df-quickchart {\n",
              "    background-color: var(--bg-color);\n",
              "    border: none;\n",
              "    border-radius: 50%;\n",
              "    cursor: pointer;\n",
              "    display: none;\n",
              "    fill: var(--fill-color);\n",
              "    height: 32px;\n",
              "    padding: 0;\n",
              "    width: 32px;\n",
              "  }\n",
              "\n",
              "  .colab-df-quickchart:hover {\n",
              "    background-color: var(--hover-bg-color);\n",
              "    box-shadow: 0 1px 2px rgba(60, 64, 67, 0.3), 0 1px 3px 1px rgba(60, 64, 67, 0.15);\n",
              "    fill: var(--button-hover-fill-color);\n",
              "  }\n",
              "\n",
              "  .colab-df-quickchart-complete:disabled,\n",
              "  .colab-df-quickchart-complete:disabled:hover {\n",
              "    background-color: var(--disabled-bg-color);\n",
              "    fill: var(--disabled-fill-color);\n",
              "    box-shadow: none;\n",
              "  }\n",
              "\n",
              "  .colab-df-spinner {\n",
              "    border: 2px solid var(--fill-color);\n",
              "    border-color: transparent;\n",
              "    border-bottom-color: var(--fill-color);\n",
              "    animation:\n",
              "      spin 1s steps(1) infinite;\n",
              "  }\n",
              "\n",
              "  @keyframes spin {\n",
              "    0% {\n",
              "      border-color: transparent;\n",
              "      border-bottom-color: var(--fill-color);\n",
              "      border-left-color: var(--fill-color);\n",
              "    }\n",
              "    20% {\n",
              "      border-color: transparent;\n",
              "      border-left-color: var(--fill-color);\n",
              "      border-top-color: var(--fill-color);\n",
              "    }\n",
              "    30% {\n",
              "      border-color: transparent;\n",
              "      border-left-color: var(--fill-color);\n",
              "      border-top-color: var(--fill-color);\n",
              "      border-right-color: var(--fill-color);\n",
              "    }\n",
              "    40% {\n",
              "      border-color: transparent;\n",
              "      border-right-color: var(--fill-color);\n",
              "      border-top-color: var(--fill-color);\n",
              "    }\n",
              "    60% {\n",
              "      border-color: transparent;\n",
              "      border-right-color: var(--fill-color);\n",
              "    }\n",
              "    80% {\n",
              "      border-color: transparent;\n",
              "      border-right-color: var(--fill-color);\n",
              "      border-bottom-color: var(--fill-color);\n",
              "    }\n",
              "    90% {\n",
              "      border-color: transparent;\n",
              "      border-bottom-color: var(--fill-color);\n",
              "    }\n",
              "  }\n",
              "</style>\n",
              "\n",
              "  <script>\n",
              "    async function quickchart(key) {\n",
              "      const quickchartButtonEl =\n",
              "        document.querySelector('#' + key + ' button');\n",
              "      quickchartButtonEl.disabled = true;  // To prevent multiple clicks.\n",
              "      quickchartButtonEl.classList.add('colab-df-spinner');\n",
              "      try {\n",
              "        const charts = await google.colab.kernel.invokeFunction(\n",
              "            'suggestCharts', [key], {});\n",
              "      } catch (error) {\n",
              "        console.error('Error during call to suggestCharts:', error);\n",
              "      }\n",
              "      quickchartButtonEl.classList.remove('colab-df-spinner');\n",
              "      quickchartButtonEl.classList.add('colab-df-quickchart-complete');\n",
              "    }\n",
              "    (() => {\n",
              "      let quickchartButtonEl =\n",
              "        document.querySelector('#df-e6bf92b4-7ad3-4de6-9fbd-196489b38a4e button');\n",
              "      quickchartButtonEl.style.display =\n",
              "        google.colab.kernel.accessAllowed ? 'block' : 'none';\n",
              "    })();\n",
              "  </script>\n",
              "</div>\n",
              "\n",
              "    </div>\n",
              "  </div>\n"
            ],
            "application/vnd.google.colaboratory.intrinsic+json": {
              "type": "dataframe",
              "summary": "{\n  \"name\": \"pd\",\n  \"rows\": 100,\n  \"fields\": [\n    {\n      \"column\": 0,\n      \"properties\": {\n        \"dtype\": \"number\",\n        \"std\": 3.6119262424277463,\n        \"min\": -10.305352263147553,\n        \"max\": 5.998151875703472,\n        \"num_unique_values\": 100,\n        \"samples\": [\n          -3.784415833712833,\n          -2.0884113332710736,\n          -1.427194545585381\n        ],\n        \"semantic_type\": \"\",\n        \"description\": \"\"\n      }\n    },\n    {\n      \"column\": 1,\n      \"properties\": {\n        \"dtype\": \"number\",\n        \"std\": 2.5059879042573217,\n        \"min\": -5.737531183702621,\n        \"max\": 8.837381266940506,\n        \"num_unique_values\": 100,\n        \"samples\": [\n          -0.547951193880052,\n          -1.895651723395803,\n          -4.950443982957204\n        ],\n        \"semantic_type\": \"\",\n        \"description\": \"\"\n      }\n    },\n    {\n      \"column\": 2,\n      \"properties\": {\n        \"dtype\": \"number\",\n        \"std\": 1.784308324962062,\n        \"min\": -3.457743157767573,\n        \"max\": 6.284928436320312,\n        \"num_unique_values\": 100,\n        \"samples\": [\n          2.242721187705152,\n          1.2948745139984008,\n          0.23187999706312476\n        ],\n        \"semantic_type\": \"\",\n        \"description\": \"\"\n      }\n    },\n    {\n      \"column\": 3,\n      \"properties\": {\n        \"dtype\": \"number\",\n        \"std\": 1.3887975908784047,\n        \"min\": -4.133955431670753,\n        \"max\": 3.8865557880443937,\n        \"num_unique_values\": 100,\n        \"samples\": [\n          3.1579207211233546,\n          -0.6352970173594074,\n          -0.43146737411310965\n        ],\n        \"semantic_type\": \"\",\n        \"description\": \"\"\n      }\n    },\n    {\n      \"column\": 4,\n      \"properties\": {\n        \"dtype\": \"number\",\n        \"std\": 1.1513557411490292,\n        \"min\": -6.324953697480049,\n        \"max\": 2.492681388382744,\n        \"num_unique_values\": 100,\n        \"samples\": [\n          2.243226693928225,\n          1.1708778084676803,\n          -0.44916013338070077\n        ],\n        \"semantic_type\": \"\",\n        \"description\": \"\"\n      }\n    },\n    {\n      \"column\": 5,\n      \"properties\": {\n        \"dtype\": \"number\",\n        \"std\": 1.055757075856203,\n        \"min\": -4.571280814535504,\n        \"max\": 3.212587444914627,\n        \"num_unique_values\": 100,\n        \"samples\": [\n          -1.1433917166431227,\n          0.9715120714444967,\n          -0.23137220633599465\n        ],\n        \"semantic_type\": \"\",\n        \"description\": \"\"\n      }\n    },\n    {\n      \"column\": 6,\n      \"properties\": {\n        \"dtype\": \"number\",\n        \"std\": 0.9185141012222964,\n        \"min\": -3.338096912997159,\n        \"max\": 2.7913797338689768,\n        \"num_unique_values\": 100,\n        \"samples\": [\n          0.8992586339506956,\n          0.7591552766631752,\n          0.2159646662928768\n        ],\n        \"semantic_type\": \"\",\n        \"description\": \"\"\n      }\n    },\n    {\n      \"column\": 7,\n      \"properties\": {\n        \"dtype\": \"number\",\n        \"std\": 0.7156524820197115,\n        \"min\": -2.629960549530659,\n        \"max\": 2.057910453863061,\n        \"num_unique_values\": 100,\n        \"samples\": [\n          1.1923570861504114,\n          0.8471522773595398,\n          -0.006760196248309419\n        ],\n        \"semantic_type\": \"\",\n        \"description\": \"\"\n      }\n    },\n    {\n      \"column\": 8,\n      \"properties\": {\n        \"dtype\": \"number\",\n        \"std\": 0.6839057116499432,\n        \"min\": -2.366852135294374,\n        \"max\": 3.0250206773838224,\n        \"num_unique_values\": 100,\n        \"samples\": [\n          -2.366852135294374,\n          -0.139573206063755,\n          0.5775693860325884\n        ],\n        \"semantic_type\": \"\",\n        \"description\": \"\"\n      }\n    },\n    {\n      \"column\": 9,\n      \"properties\": {\n        \"dtype\": \"number\",\n        \"std\": 0.5562732789849012,\n        \"min\": -2.0946273698940523,\n        \"max\": 1.169802048971122,\n        \"num_unique_values\": 100,\n        \"samples\": [\n          0.8556142794743002,\n          0.7102625943567371,\n          0.00047107511973483815\n        ],\n        \"semantic_type\": \"\",\n        \"description\": \"\"\n      }\n    },\n    {\n      \"column\": 10,\n      \"properties\": {\n        \"dtype\": \"number\",\n        \"std\": 0.5156638090059639,\n        \"min\": -1.8691515237484766,\n        \"max\": 1.3638562772827751,\n        \"num_unique_values\": 100,\n        \"samples\": [\n          0.25980219215425226,\n          -0.8217059252881561,\n          0.3353497357816032\n        ],\n        \"semantic_type\": \"\",\n        \"description\": \"\"\n      }\n    },\n    {\n      \"column\": 11,\n      \"properties\": {\n        \"dtype\": \"number\",\n        \"std\": 0.4938968760740943,\n        \"min\": -1.24805756327744,\n        \"max\": 1.4039816543908417,\n        \"num_unique_values\": 100,\n        \"samples\": [\n          -0.37726871486712443,\n          -1.24805756327744,\n          -0.4690869456103976\n        ],\n        \"semantic_type\": \"\",\n        \"description\": \"\"\n      }\n    },\n    {\n      \"column\": 12,\n      \"properties\": {\n        \"dtype\": \"number\",\n        \"std\": 0.4296143167815781,\n        \"min\": -1.0867167214990894,\n        \"max\": 1.0664281274763323,\n        \"num_unique_values\": 100,\n        \"samples\": [\n          0.5243247976792561,\n          -0.31767817893923156,\n          0.466347964033716\n        ],\n        \"semantic_type\": \"\",\n        \"description\": \"\"\n      }\n    },\n    {\n      \"column\": 13,\n      \"properties\": {\n        \"dtype\": \"number\",\n        \"std\": 0.37334488928523857,\n        \"min\": -1.0341062463623052,\n        \"max\": 1.102270410832561,\n        \"num_unique_values\": 100,\n        \"samples\": [\n          0.21785370877079555,\n          0.00793315997174941,\n          -0.17086797939545967\n        ],\n        \"semantic_type\": \"\",\n        \"description\": \"\"\n      }\n    },\n    {\n      \"column\": 14,\n      \"properties\": {\n        \"dtype\": \"number\",\n        \"std\": 0.32489463860962353,\n        \"min\": -0.800779316743104,\n        \"max\": 0.9617840975383855,\n        \"num_unique_values\": 100,\n        \"samples\": [\n          -0.3051857188849947,\n          -0.1687332099168989,\n          -0.15928529149443924\n        ],\n        \"semantic_type\": \"\",\n        \"description\": \"\"\n      }\n    },\n    {\n      \"column\": 15,\n      \"properties\": {\n        \"dtype\": \"number\",\n        \"std\": 0.2832767044747693,\n        \"min\": -0.7866680765171361,\n        \"max\": 0.7460054607362532,\n        \"num_unique_values\": 100,\n        \"samples\": [\n          0.7460054607362532,\n          0.6039621239344308,\n          -0.0009445876766206829\n        ],\n        \"semantic_type\": \"\",\n        \"description\": \"\"\n      }\n    },\n    {\n      \"column\": 16,\n      \"properties\": {\n        \"dtype\": \"number\",\n        \"std\": 0.2425364760178616,\n        \"min\": -0.8329135091005304,\n        \"max\": 0.49552600718892503,\n        \"num_unique_values\": 100,\n        \"samples\": [\n          -0.12623932676506358,\n          -0.058352077583156255,\n          0.36068646316399394\n        ],\n        \"semantic_type\": \"\",\n        \"description\": \"\"\n      }\n    },\n    {\n      \"column\": 17,\n      \"properties\": {\n        \"dtype\": \"number\",\n        \"std\": 0.21451815481717762,\n        \"min\": -0.4868059468292768,\n        \"max\": 0.7421499428740287,\n        \"num_unique_values\": 100,\n        \"samples\": [\n          0.1961704609005355,\n          0.08627690688540976,\n          0.025282615361569904\n        ],\n        \"semantic_type\": \"\",\n        \"description\": \"\"\n      }\n    },\n    {\n      \"column\": 18,\n      \"properties\": {\n        \"dtype\": \"number\",\n        \"std\": 0.19321641018907137,\n        \"min\": -0.5535633300348999,\n        \"max\": 0.7356833355453457,\n        \"num_unique_values\": 100,\n        \"samples\": [\n          -0.1052666198799988,\n          0.500429277899133,\n          -0.11900263926092666\n        ],\n        \"semantic_type\": \"\",\n        \"description\": \"\"\n      }\n    },\n    {\n      \"column\": 19,\n      \"properties\": {\n        \"dtype\": \"number\",\n        \"std\": 0.18004263788603247,\n        \"min\": -0.5899800830367045,\n        \"max\": 0.5088245936821546,\n        \"num_unique_values\": 100,\n        \"samples\": [\n          0.1771922290110164,\n          0.1522800875773468,\n          -0.07254902350828822\n        ],\n        \"semantic_type\": \"\",\n        \"description\": \"\"\n      }\n    }\n  ]\n}"
            }
          },
          "metadata": {},
          "execution_count": 4
        }
      ]
    },
    {
      "cell_type": "markdown",
      "source": [
        "### Build network"
      ],
      "metadata": {
        "id": "kfn4F7KXE0PN"
      }
    },
    {
      "cell_type": "code",
      "source": [
        "class MyNN(nn.Module):\n",
        "    def __init__(self, n):\n",
        "        super().__init__()\n",
        "        self.hidden = nn.Linear(n, n)\n",
        "        self.relu = nn.ReLU()\n",
        "        self.output = nn.Linear(n, 1)\n",
        "        self.sigmoid = nn.Sigmoid()\n",
        "\n",
        "    def forward(self, x):\n",
        "        x = self.relu(self.hidden(x))\n",
        "        x = self.sigmoid(self.output(x))\n",
        "        return x"
      ],
      "metadata": {
        "id": "3VNXNI1AE9kj"
      },
      "execution_count": 5,
      "outputs": []
    },
    {
      "cell_type": "code",
      "source": [
        "X_scaled.shape[1]"
      ],
      "metadata": {
        "colab": {
          "base_uri": "https://localhost:8080/"
        },
        "id": "TJkbmigwb4hX",
        "outputId": "d200cd90-3758-4f9e-bedc-608a7cd25e76"
      },
      "execution_count": 6,
      "outputs": [
        {
          "output_type": "execute_result",
          "data": {
            "text/plain": [
              "30"
            ]
          },
          "metadata": {},
          "execution_count": 6
        }
      ]
    },
    {
      "cell_type": "code",
      "source": [
        "model = MyNN(X_scaled.shape[1])\n",
        "print(sum([x.reshape(-1).shape[0] for x in model.parameters()]))"
      ],
      "metadata": {
        "colab": {
          "base_uri": "https://localhost:8080/"
        },
        "id": "P3HpEGIKE-GU",
        "outputId": "733517b4-1ffb-46f2-c1b7-bdf8b949057e"
      },
      "execution_count": 7,
      "outputs": [
        {
          "output_type": "stream",
          "name": "stdout",
          "text": [
            "961\n"
          ]
        }
      ]
    },
    {
      "cell_type": "code",
      "source": [
        "def model_train(model, X_train, y_train, X_val, y_val):\n",
        "    # loss function and optimizer\n",
        "    loss_fn = nn.BCELoss()  # binary cross entropy\n",
        "    optimizer = optim.Adam(model.parameters(), lr=0.0001)\n",
        "\n",
        "    n_epochs = 250   # number of epochs to run\n",
        "    batch_size = 10  # size of each batch\n",
        "    batch_start = torch.arange(0, len(X_train), batch_size)\n",
        "\n",
        "    # Hold the best model\n",
        "    best_acc = - np.inf   # init to negative infinity\n",
        "    best_weights = None\n",
        "\n",
        "    for epoch in range(n_epochs):\n",
        "        model.train()\n",
        "        with tqdm.tqdm(batch_start, unit=\"batch\", mininterval=0, disable=True) as bar:\n",
        "            bar.set_description(f\"Epoch {epoch}\")\n",
        "            for start in bar:\n",
        "                # take a batch\n",
        "                X_batch = X_train[start:start+batch_size]\n",
        "                y_batch = y_train[start:start+batch_size]\n",
        "                # forward pass\n",
        "                y_pred = model(X_batch)\n",
        "                loss = loss_fn(y_pred, y_batch)\n",
        "                # backward pass\n",
        "                optimizer.zero_grad()\n",
        "                loss.backward()\n",
        "                # update weights\n",
        "                optimizer.step()\n",
        "                # print progress\n",
        "                acc = (y_pred.round() == y_batch).float().mean()\n",
        "                bar.set_postfix(\n",
        "                    loss=float(loss),\n",
        "                    acc=float(acc)\n",
        "                )\n",
        "        # evaluate accuracy at end of each epoch\n",
        "        model.eval()\n",
        "        y_pred = model(X_val)\n",
        "        acc = (y_pred.round() == y_val).float().mean()\n",
        "        acc = float(acc)\n",
        "        if acc > best_acc:\n",
        "            best_acc = acc\n",
        "            best_weights = copy.deepcopy(model.state_dict())\n",
        "    # restore model and return best accuracy\n",
        "    model.load_state_dict(best_weights)\n",
        "    return best_acc"
      ],
      "metadata": {
        "id": "2BAroeflFBTI"
      },
      "execution_count": 8,
      "outputs": []
    },
    {
      "cell_type": "markdown",
      "source": [
        "### Test without PCA"
      ],
      "metadata": {
        "id": "v8-M_tZKFm9z"
      }
    },
    {
      "cell_type": "code",
      "source": [
        "X = torch.tensor(X_scaled, dtype=torch.float32)\n",
        "y = torch.tensor(y, dtype=torch.float32).reshape(-1, 1)"
      ],
      "metadata": {
        "id": "Y_3OKSuQFynG"
      },
      "execution_count": 9,
      "outputs": []
    },
    {
      "cell_type": "code",
      "source": [
        "X_train, X_test, y_train, y_test = train_test_split(X, y, train_size=0.7, shuffle=True)"
      ],
      "metadata": {
        "id": "xyXaTglBFDnP"
      },
      "execution_count": 10,
      "outputs": []
    },
    {
      "cell_type": "code",
      "source": [
        "%%time\n",
        "acc = model_train(model, X_train, y_train, X_test, y_test)\n",
        "print(f\"Final model accuracy: {acc*100:.2f}%\")"
      ],
      "metadata": {
        "colab": {
          "base_uri": "https://localhost:8080/"
        },
        "id": "rzg820eIFGU1",
        "outputId": "5e4ef010-ed96-47c6-9fb2-c05a88edb6f6"
      },
      "execution_count": 11,
      "outputs": [
        {
          "output_type": "stream",
          "name": "stdout",
          "text": [
            "Final model accuracy: 93.33%\n",
            "CPU times: user 2.83 s, sys: 33.4 ms, total: 2.86 s\n",
            "Wall time: 2.86 s\n"
          ]
        }
      ]
    },
    {
      "cell_type": "code",
      "source": [
        "with torch.no_grad():\n",
        "    # Plot the ROC curve\n",
        "    y_pred = model(X_test)\n",
        "    fpr, tpr, thresholds = roc_curve(y_test, y_pred)\n",
        "    plt.plot(fpr, tpr) # ROC curve = TPR vs FPR\n",
        "    plt.title(\"Receiver Operating Characteristics\")\n",
        "    plt.xlabel(\"False Positive Rate\")\n",
        "    plt.ylabel(\"True Positive Rate\")\n",
        "    plt.show()"
      ],
      "metadata": {
        "colab": {
          "base_uri": "https://localhost:8080/",
          "height": 472
        },
        "id": "OxdrUOBRGQ8J",
        "outputId": "f05a779c-9dba-4c74-f2eb-c8e3adecf3fc"
      },
      "execution_count": 12,
      "outputs": [
        {
          "output_type": "display_data",
          "data": {
            "text/plain": [
              "<Figure size 640x480 with 1 Axes>"
            ],
            "image/png": "[encoded data removed]"
          },
          "metadata": {}
        }
      ]
    },
    {
      "cell_type": "markdown",
      "source": [
        "### Text with PCA"
      ],
      "metadata": {
        "id": "0ttzi0ffFpj6"
      }
    },
    {
      "cell_type": "code",
      "source": [
        "X_pca.shape[1]"
      ],
      "metadata": {
        "colab": {
          "base_uri": "https://localhost:8080/"
        },
        "id": "gbNUngLubz6P",
        "outputId": "d6e0a4c5-5ff0-44bf-8f37-c6101d25b94d"
      },
      "execution_count": 13,
      "outputs": [
        {
          "output_type": "execute_result",
          "data": {
            "text/plain": [
              "20"
            ]
          },
          "metadata": {},
          "execution_count": 13
        }
      ]
    },
    {
      "cell_type": "code",
      "source": [
        "model = MyNN(X_pca.shape[1])\n",
        "print(sum([x.reshape(-1).shape[0] for x in model.parameters()]))"
      ],
      "metadata": {
        "colab": {
          "base_uri": "https://localhost:8080/"
        },
        "id": "pheGeSopbCc4",
        "outputId": "c01bdd8a-2219-46de-a82c-4d343b493f16"
      },
      "execution_count": 14,
      "outputs": [
        {
          "output_type": "stream",
          "name": "stdout",
          "text": [
            "441\n"
          ]
        }
      ]
    },
    {
      "cell_type": "code",
      "source": [
        "X_pca = torch.tensor(X_pca, dtype=torch.float32)\n",
        "y_pca = torch.tensor(y, dtype=torch.float32).reshape(-1, 1)"
      ],
      "metadata": {
        "colab": {
          "base_uri": "https://localhost:8080/"
        },
        "id": "cLOGrWNrFq7K",
        "outputId": "edb1ace3-73af-4c99-a289-44865f0f9b63"
      },
      "execution_count": 15,
      "outputs": [
        {
          "output_type": "stream",
          "name": "stderr",
          "text": [
            "<ipython-input-15-fcd2b1add81b>:2: UserWarning: To copy construct from a tensor, it is recommended to use sourceTensor.clone().detach() or sourceTensor.clone().detach().requires_grad_(True), rather than torch.tensor(sourceTensor).\n",
            "  y_pca = torch.tensor(y, dtype=torch.float32).reshape(-1, 1)\n"
          ]
        }
      ]
    },
    {
      "cell_type": "code",
      "source": [
        "X_train_pca, X_test_pca, y_train_pca, y_test_pca = train_test_split(X_pca, y_pca, train_size=0.7, shuffle=True)"
      ],
      "metadata": {
        "id": "nUPIJ0ngF3zb"
      },
      "execution_count": 16,
      "outputs": []
    },
    {
      "cell_type": "code",
      "source": [
        "%%time\n",
        "acc = model_train(model, X_train_pca, X_test_pca, y_train_pca, y_test_pca)\n",
        "print(f\"Final model accuracy: {acc*100:.2f}%\")"
      ],
      "metadata": {
        "colab": {
          "base_uri": "https://localhost:8080/",
          "height": 391
        },
        "id": "0QjSr55gF4o3",
        "outputId": "f49c71bf-6700-4b5f-e957-cb7d537321d0"
      },
      "execution_count": 17,
      "outputs": [
        {
          "output_type": "error",
          "ename": "ValueError",
          "evalue": "Using a target size (torch.Size([10, 20])) that is different to the input size (torch.Size([10, 1])) is deprecated. Please ensure they have the same size.",
          "traceback": [
            "\u001b[0;31m---------------------------------------------------------------------------\u001b[0m",
            "\u001b[0;31mValueError\u001b[0m                                Traceback (most recent call last)",
            "\u001b[0;32m<timed exec>\u001b[0m in \u001b[0;36m<module>\u001b[0;34m\u001b[0m\n",
            "\u001b[0;32m<ipython-input-8-ab50bedec98d>\u001b[0m in \u001b[0;36mmodel_train\u001b[0;34m(model, X_train, y_train, X_val, y_val)\u001b[0m\n\u001b[1;32m     22\u001b[0m                 \u001b[0;31m# forward pass\u001b[0m\u001b[0;34m\u001b[0m\u001b[0;34m\u001b[0m\u001b[0m\n\u001b[1;32m     23\u001b[0m                 \u001b[0my_pred\u001b[0m \u001b[0;34m=\u001b[0m \u001b[0mmodel\u001b[0m\u001b[0;34m(\u001b[0m\u001b[0mX_batch\u001b[0m\u001b[0;34m)\u001b[0m\u001b[0;34m\u001b[0m\u001b[0;34m\u001b[0m\u001b[0m\n\u001b[0;32m---> 24\u001b[0;31m                 \u001b[0mloss\u001b[0m \u001b[0;34m=\u001b[0m \u001b[0mloss_fn\u001b[0m\u001b[0;34m(\u001b[0m\u001b[0my_pred\u001b[0m\u001b[0;34m,\u001b[0m \u001b[0my_batch\u001b[0m\u001b[0;34m)\u001b[0m\u001b[0;34m\u001b[0m\u001b[0;34m\u001b[0m\u001b[0m\n\u001b[0m\u001b[1;32m     25\u001b[0m                 \u001b[0;31m# backward pass\u001b[0m\u001b[0;34m\u001b[0m\u001b[0;34m\u001b[0m\u001b[0m\n\u001b[1;32m     26\u001b[0m                 \u001b[0moptimizer\u001b[0m\u001b[0;34m.\u001b[0m\u001b[0mzero_grad\u001b[0m\u001b[0;34m(\u001b[0m\u001b[0;34m)\u001b[0m\u001b[0;34m\u001b[0m\u001b[0;34m\u001b[0m\u001b[0m\n",
            "\u001b[0;32m/usr/local/lib/python3.10/dist-packages/torch/nn/modules/module.py\u001b[0m in \u001b[0;36m_wrapped_call_impl\u001b[0;34m(self, *args, **kwargs)\u001b[0m\n\u001b[1;32m   1551\u001b[0m             \u001b[0;32mreturn\u001b[0m \u001b[0mself\u001b[0m\u001b[0;34m.\u001b[0m\u001b[0m_compiled_call_impl\u001b[0m\u001b[0;34m(\u001b[0m\u001b[0;34m*\u001b[0m\u001b[0margs\u001b[0m\u001b[0;34m,\u001b[0m \u001b[0;34m**\u001b[0m\u001b[0mkwargs\u001b[0m\u001b[0;34m)\u001b[0m  \u001b[0;31m# type: ignore[misc]\u001b[0m\u001b[0;34m\u001b[0m\u001b[0;34m\u001b[0m\u001b[0m\n\u001b[1;32m   1552\u001b[0m         \u001b[0;32melse\u001b[0m\u001b[0;34m:\u001b[0m\u001b[0;34m\u001b[0m\u001b[0;34m\u001b[0m\u001b[0m\n\u001b[0;32m-> 1553\u001b[0;31m             \u001b[0;32mreturn\u001b[0m \u001b[0mself\u001b[0m\u001b[0;34m.\u001b[0m\u001b[0m_call_impl\u001b[0m\u001b[0;34m(\u001b[0m\u001b[0;34m*\u001b[0m\u001b[0margs\u001b[0m\u001b[0;34m,\u001b[0m \u001b[0;34m**\u001b[0m\u001b[0mkwargs\u001b[0m\u001b[0;34m)\u001b[0m\u001b[0;34m\u001b[0m\u001b[0;34m\u001b[0m\u001b[0m\n\u001b[0m\u001b[1;32m   1554\u001b[0m \u001b[0;34m\u001b[0m\u001b[0m\n\u001b[1;32m   1555\u001b[0m     \u001b[0;32mdef\u001b[0m \u001b[0m_call_impl\u001b[0m\u001b[0;34m(\u001b[0m\u001b[0mself\u001b[0m\u001b[0;34m,\u001b[0m \u001b[0;34m*\u001b[0m\u001b[0margs\u001b[0m\u001b[0;34m,\u001b[0m \u001b[0;34m**\u001b[0m\u001b[0mkwargs\u001b[0m\u001b[0;34m)\u001b[0m\u001b[0;34m:\u001b[0m\u001b[0;34m\u001b[0m\u001b[0;34m\u001b[0m\u001b[0m\n",
            "\u001b[0;32m/usr/local/lib/python3.10/dist-packages/torch/nn/modules/module.py\u001b[0m in \u001b[0;36m_call_impl\u001b[0;34m(self, *args, **kwargs)\u001b[0m\n\u001b[1;32m   1560\u001b[0m                 \u001b[0;32mor\u001b[0m \u001b[0m_global_backward_pre_hooks\u001b[0m \u001b[0;32mor\u001b[0m \u001b[0m_global_backward_hooks\u001b[0m\u001b[0;34m\u001b[0m\u001b[0;34m\u001b[0m\u001b[0m\n\u001b[1;32m   1561\u001b[0m                 or _global_forward_hooks or _global_forward_pre_hooks):\n\u001b[0;32m-> 1562\u001b[0;31m             \u001b[0;32mreturn\u001b[0m \u001b[0mforward_call\u001b[0m\u001b[0;34m(\u001b[0m\u001b[0;34m*\u001b[0m\u001b[0margs\u001b[0m\u001b[0;34m,\u001b[0m \u001b[0;34m**\u001b[0m\u001b[0mkwargs\u001b[0m\u001b[0;34m)\u001b[0m\u001b[0;34m\u001b[0m\u001b[0;34m\u001b[0m\u001b[0m\n\u001b[0m\u001b[1;32m   1563\u001b[0m \u001b[0;34m\u001b[0m\u001b[0m\n\u001b[1;32m   1564\u001b[0m         \u001b[0;32mtry\u001b[0m\u001b[0;34m:\u001b[0m\u001b[0;34m\u001b[0m\u001b[0;34m\u001b[0m\u001b[0m\n",
            "\u001b[0;32m/usr/local/lib/python3.10/dist-packages/torch/nn/modules/loss.py\u001b[0m in \u001b[0;36mforward\u001b[0;34m(self, input, target)\u001b[0m\n\u001b[1;32m    619\u001b[0m \u001b[0;34m\u001b[0m\u001b[0m\n\u001b[1;32m    620\u001b[0m     \u001b[0;32mdef\u001b[0m \u001b[0mforward\u001b[0m\u001b[0;34m(\u001b[0m\u001b[0mself\u001b[0m\u001b[0;34m,\u001b[0m \u001b[0minput\u001b[0m\u001b[0;34m:\u001b[0m \u001b[0mTensor\u001b[0m\u001b[0;34m,\u001b[0m \u001b[0mtarget\u001b[0m\u001b[0;34m:\u001b[0m \u001b[0mTensor\u001b[0m\u001b[0;34m)\u001b[0m \u001b[0;34m->\u001b[0m \u001b[0mTensor\u001b[0m\u001b[0;34m:\u001b[0m\u001b[0;34m\u001b[0m\u001b[0;34m\u001b[0m\u001b[0m\n\u001b[0;32m--> 621\u001b[0;31m         \u001b[0;32mreturn\u001b[0m \u001b[0mF\u001b[0m\u001b[0;34m.\u001b[0m\u001b[0mbinary_cross_entropy\u001b[0m\u001b[0;34m(\u001b[0m\u001b[0minput\u001b[0m\u001b[0;34m,\u001b[0m \u001b[0mtarget\u001b[0m\u001b[0;34m,\u001b[0m \u001b[0mweight\u001b[0m\u001b[0;34m=\u001b[0m\u001b[0mself\u001b[0m\u001b[0;34m.\u001b[0m\u001b[0mweight\u001b[0m\u001b[0;34m,\u001b[0m \u001b[0mreduction\u001b[0m\u001b[0;34m=\u001b[0m\u001b[0mself\u001b[0m\u001b[0;34m.\u001b[0m\u001b[0mreduction\u001b[0m\u001b[0;34m)\u001b[0m\u001b[0;34m\u001b[0m\u001b[0;34m\u001b[0m\u001b[0m\n\u001b[0m\u001b[1;32m    622\u001b[0m \u001b[0;34m\u001b[0m\u001b[0m\n\u001b[1;32m    623\u001b[0m \u001b[0;34m\u001b[0m\u001b[0m\n",
            "\u001b[0;32m/usr/local/lib/python3.10/dist-packages/torch/nn/functional.py\u001b[0m in \u001b[0;36mbinary_cross_entropy\u001b[0;34m(input, target, weight, size_average, reduce, reduction)\u001b[0m\n\u001b[1;32m   3161\u001b[0m         \u001b[0mreduction_enum\u001b[0m \u001b[0;34m=\u001b[0m \u001b[0m_Reduction\u001b[0m\u001b[0;34m.\u001b[0m\u001b[0mget_enum\u001b[0m\u001b[0;34m(\u001b[0m\u001b[0mreduction\u001b[0m\u001b[0;34m)\u001b[0m\u001b[0;34m\u001b[0m\u001b[0;34m\u001b[0m\u001b[0m\n\u001b[1;32m   3162\u001b[0m     \u001b[0;32mif\u001b[0m \u001b[0mtarget\u001b[0m\u001b[0;34m.\u001b[0m\u001b[0msize\u001b[0m\u001b[0;34m(\u001b[0m\u001b[0;34m)\u001b[0m \u001b[0;34m!=\u001b[0m \u001b[0minput\u001b[0m\u001b[0;34m.\u001b[0m\u001b[0msize\u001b[0m\u001b[0;34m(\u001b[0m\u001b[0;34m)\u001b[0m\u001b[0;34m:\u001b[0m\u001b[0;34m\u001b[0m\u001b[0;34m\u001b[0m\u001b[0m\n\u001b[0;32m-> 3163\u001b[0;31m         raise ValueError(\n\u001b[0m\u001b[1;32m   3164\u001b[0m             \u001b[0;34mf\"Using a target size ({target.size()}) that is different to the input size ({input.size()}) is deprecated. \"\u001b[0m\u001b[0;34m\u001b[0m\u001b[0;34m\u001b[0m\u001b[0m\n\u001b[1;32m   3165\u001b[0m             \u001b[0;34m\"Please ensure they have the same size.\"\u001b[0m\u001b[0;34m\u001b[0m\u001b[0;34m\u001b[0m\u001b[0m\n",
            "\u001b[0;31mValueError\u001b[0m: Using a target size (torch.Size([10, 20])) that is different to the input size (torch.Size([10, 1])) is deprecated. Please ensure they have the same size."
          ]
        }
      ]
    },
    {
      "cell_type": "code",
      "source": [
        "with torch.no_grad():\n",
        "    # Plot the ROC curve\n",
        "    y_pred_pca = model(X_test_pca)\n",
        "    fpr, tpr, thresholds = roc_curve(y_test_pca, y_pred_pca)\n",
        "    plt.plot(fpr, tpr) # ROC curve = TPR vs FPR\n",
        "    plt.title(\"Receiver Operating Characteristics\")\n",
        "    plt.xlabel(\"False Positive Rate\")\n",
        "    plt.ylabel(\"True Positive Rate\")\n",
        "    plt.show()"
      ],
      "metadata": {
        "colab": {
          "base_uri": "https://localhost:8080/",
          "height": 472
        },
        "id": "vtlOKndRGWg-",
        "outputId": "5663ae1e-d242-44ea-adec-6f9d4f9f9ce0"
      },
      "execution_count": 18,
      "outputs": [
        {
          "output_type": "display_data",
          "data": {
            "text/plain": [
              "<Figure size 640x480 with 1 Axes>"
            ],
            "image/png": "[encoded data removed]"
          },
          "metadata": {}
        }
      ]
    }
  ]
}