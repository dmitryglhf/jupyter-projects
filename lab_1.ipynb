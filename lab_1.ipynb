{
  "cells": [
    {
      "cell_type": "markdown",
      "metadata": {
        "id": "view-in-github",
        "colab_type": "text"
      },
      "source": [
        "<a href=\"https://colab.research.google.com/github/dmitryglhf/jupyter-projects/blob/main/lab_1.ipynb\" target=\"_parent\"><img src=\"https://colab.research.google.com/assets/colab-badge.svg\" alt=\"Open In Colab\"/></a>"
      ]
    },
    {
      "cell_type": "markdown",
      "metadata": {
        "id": "Ia1-cqMtnSPw"
      },
      "source": [
        "### Data"
      ]
    },
    {
      "cell_type": "code",
      "execution_count": null,
      "metadata": {
        "id": "cwIKbK7cnSP0"
      },
      "outputs": [],
      "source": [
        "import numpy as np\n",
        "import pandas as pd\n",
        "\n",
        "#from fedot.api.main import Fedot"
      ]
    },
    {
      "cell_type": "code",
      "execution_count": null,
      "metadata": {
        "id": "PqXcB5BcnSP1"
      },
      "outputs": [],
      "source": [
        "#df = pd.read_csv('our data....')"
      ]
    },
    {
      "cell_type": "markdown",
      "metadata": {
        "id": "Jx71gFk-nSP2"
      },
      "source": [
        "### QR-algorithm\n"
      ]
    },
    {
      "cell_type": "code",
      "execution_count": null,
      "metadata": {
        "id": "ZKcanMkInSP3"
      },
      "outputs": [],
      "source": [
        "def householder(a):\n",
        "    v = a.copy()\n",
        "    v[0] += np.sign(v[0]) * np.linalg.norm(a)\n",
        "    H = np.eye(len(a)) - 2 * np.outer(v, v) / np.dot(v, v)  # getting Householder matrix\n",
        "    return H\n",
        "\n",
        "\n",
        "def get_qr(A):\n",
        "    n = A.shape[0]\n",
        "    Q = np.eye(n)\n",
        "    R = A.copy()\n",
        "\n",
        "    for j in range(n):\n",
        "        a = R[j:, j]  # getting vector\n",
        "        H = householder(a)  # getting Householder matrix\n",
        "\n",
        "        R[j:, j:] = H @ R[j:, j:]  # change R\n",
        "        Q[:, j:] = Q[:, j:] @ H.T  # change Q\n",
        "\n",
        "    return Q, R\n",
        "\n",
        "\n",
        "def eig(A, e=1e-10, max_iter = 1000):\n",
        "    An = A.copy() # for eig values\n",
        "    Qk = np.eye(A.shape[0]) # for eig vectors\n",
        "    stop_check = np.sqrt(np.sum(np.tril(An, -1) ** 2)) # under diag values\n",
        "    iterations = 0\n",
        "\n",
        "    while stop_check > e and iterations < max_iter:\n",
        "        Q, R = get_qr(An)\n",
        "        An = R @ Q\n",
        "        Qk = Qk @ Q\n",
        "        stop_check = np.sqrt(np.sum(np.tril(An, -1) ** 2))\n",
        "        iterations += 1\n",
        "\n",
        "    eig_values = np.diag(An)\n",
        "\n",
        "\n",
        "    # Return eigen values and eigen vectors\n",
        "    '''\n",
        "    1. Создать словарь ключ: собственное число, значение: собственный вектор\n",
        "    2. Создать отсортировать по ключу\n",
        "    3. Восстановить матрицу собственных векторов с учетом сортировки\n",
        "    '''\n",
        "    return eig_values, Qk, An"
      ]
    },
    {
      "cell_type": "markdown",
      "source": [
        "### SVD"
      ],
      "metadata": {
        "id": "1QF55rB24ivP"
      }
    },
    {
      "cell_type": "code",
      "source": [
        "def svd(A):\n",
        "  # V^T matrix\n",
        "  temp_V = A.T @ A\n",
        "  eig_values, Qk = eig(temp_V)\n",
        "  V_T = Qk.T\n",
        "\n",
        "  # U matrix\n",
        "  temp_U = A @ A.T\n",
        "  _, Qk = eig(temp_U)\n",
        "  U = Qk\n",
        "\n",
        "  # Sigma matrix\n",
        "  sigma = [[0] * len(eig_values) for _ in range(len(eig_values))]\n",
        "  for i in range(len(eig_values)):\n",
        "        sigma[i][i] = np.sqrt(eig_values[i])\n",
        "  # Result\n",
        "  return U, sigma, V_T"
      ],
      "metadata": {
        "id": "oK40PoxF4kz9"
      },
      "execution_count": null,
      "outputs": []
    },
    {
      "cell_type": "markdown",
      "metadata": {
        "id": "jf4k29IMnSP4"
      },
      "source": [
        "### Test"
      ]
    },
    {
      "cell_type": "code",
      "execution_count": null,
      "metadata": {
        "tags": [],
        "id": "unOnRXqtnSP5",
        "outputId": "f32db93f-2fb2-4f5e-9005-11863afc20e2",
        "colab": {
          "base_uri": "https://localhost:8080/"
        }
      },
      "outputs": [
        {
          "output_type": "stream",
          "name": "stdout",
          "text": [
            "[[27. 32. 13.]\n",
            " [32. 40. 16.]\n",
            " [13. 16. 11.]]\n",
            "Норма для собственного значения 0.845548088315283: 72.16189950153716\n",
            "Норма для собственного значения 4.147004321832275: 7.13149831455435e-11\n",
            "Норма для собственного значения 73.00744758985249: 72.1618995015372\n",
            "Matrix:\n",
            "[[ 0.60030706 -0.21284918  0.77092585]\n",
            " [ 0.73491404 -0.23343825 -0.63671653]\n",
            " [ 0.31548817  0.94878965  0.01629122]]\n"
          ]
        }
      ],
      "source": [
        "\n",
        "'''\n",
        "eigen values for matrix A:\n",
        "l1 = -2\n",
        "l2 = 2\n",
        "l3 = 4\n",
        "\n",
        "eigen vectors for matrix A:\n",
        "v1 = (0, 1, -2)\n",
        "v2 = (2, -1, 0)\n",
        "v3 = (9, -2, 1)\n",
        "\n",
        "original: http://mathprofi.ru/sobstvennye_znachenija_i_sobstvennye_vektory.html\n",
        "'''\n",
        "\n",
        "A = np.array([[5, 6, 3],\n",
        "                      [-1, 0, 1],\n",
        "                      [1, 2, -1]], dtype = float)\n",
        "A=A.T@A\n",
        "print(A)\n",
        "eig_values, Qk, An = eig(A)\n",
        "\n",
        "n = A.shape[0]\n",
        "\n",
        "#for i in range(n):\n",
        "  #v = Qk[:, i]  #[x[i] for x in Qk]\n",
        "  #print(np.linalg.norm((A - eig_values[i] @ np.eye(n))@v))\n",
        "\n",
        "\n",
        "for i in range(n):\n",
        "    v = Qk[:, i]  # Извлечение i-го собственного вектора\n",
        "    # Вычисление нормы выражения (A - eig_value * I) @ v\n",
        "    norm_value = np.linalg.norm((A - eig_values[i] * np.eye(n)) @ v)\n",
        "\n",
        "    print(f\"Норма для собственного значения {eig_values[i]}: {norm_value}\")\n",
        "\n",
        "#for eig in eig_values:\n",
        "\n",
        "  #for i in range(A.shape[0]):\n",
        "    #v = [x[i] for x in Qk]\n",
        "    #left_side = A @ v\n",
        "    #right_side = eig * v\n",
        "    #print(left_side - right_side)\n",
        "\n",
        "print('Matrix:')\n",
        "print(Qk)\n",
        "#print('\\nEig values:')\n",
        "#print(eig_values)\n"
      ]
    },
    {
      "cell_type": "markdown",
      "source": [
        "### Комментарии\n",
        "\n",
        "Делаем так: нам нужно найти разложение X вида $U*Сигма*V_T$:\n",
        "- находим собственные значения для матрицы A*A_T и собств вектора -> определим U и Сигму из этого\n",
        "\n",
        "Cейчас (до вс) нужно научиться сортировать в сигме синг значения по убыванию и менять соответсвующие столбцы в U.\n",
        "Что делать с матрицей V я подумаю и скажу в вс"
      ],
      "metadata": {
        "id": "LbM_56DR82B6"
      }
    },
    {
      "cell_type": "code",
      "source": [],
      "metadata": {
        "id": "gzIy4U2387pD"
      },
      "execution_count": null,
      "outputs": []
    }
  ],
  "metadata": {
    "kernelspec": {
      "display_name": "Python 3 (ipykernel)",
      "language": "python",
      "name": "python3"
    },
    "language_info": {
      "codemirror_mode": {
        "name": "ipython",
        "version": 3
      },
      "file_extension": ".py",
      "mimetype": "text/x-python",
      "name": "python",
      "nbconvert_exporter": "python",
      "pygments_lexer": "ipython3",
      "version": "3.11.7"
    },
    "colab": {
      "provenance": [],
      "include_colab_link": true
    }
  },
  "nbformat": 4,
  "nbformat_minor": 0
}