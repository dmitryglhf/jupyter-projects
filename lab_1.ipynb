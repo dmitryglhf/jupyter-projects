{
  "cells": [
    {
      "cell_type": "markdown",
      "metadata": {
        "id": "view-in-github",
        "colab_type": "text"
      },
      "source": [
        "<a href=\"https://colab.research.google.com/github/dmitryglhf/jupyter-projects/blob/main/lab_1.ipynb\" target=\"_parent\"><img src=\"https://colab.research.google.com/assets/colab-badge.svg\" alt=\"Open In Colab\"/></a>"
      ]
    },
    {
      "cell_type": "markdown",
      "metadata": {
        "id": "Ia1-cqMtnSPw"
      },
      "source": [
        "### Data"
      ]
    },
    {
      "cell_type": "code",
      "execution_count": 38,
      "metadata": {
        "id": "cwIKbK7cnSP0"
      },
      "outputs": [],
      "source": [
        "import numpy as np\n",
        "import pandas as pd"
      ]
    },
    {
      "cell_type": "code",
      "execution_count": 39,
      "metadata": {
        "id": "PqXcB5BcnSP1"
      },
      "outputs": [],
      "source": [
        "#df = pd.read_csv('our data...')"
      ]
    },
    {
      "cell_type": "markdown",
      "metadata": {
        "id": "Jx71gFk-nSP2"
      },
      "source": [
        "### QR-algorithm\n"
      ]
    },
    {
      "cell_type": "code",
      "execution_count": 40,
      "metadata": {
        "id": "ZKcanMkInSP3"
      },
      "outputs": [],
      "source": [
        "def householder(a):\n",
        "    v = a.copy()\n",
        "    v[0] += np.sign(v[0]) * np.linalg.norm(a)\n",
        "    H = np.eye(len(a)) - 2 * np.outer(v, v) / np.dot(v, v)  # getting Householder matrix\n",
        "    return H\n",
        "\n",
        "\n",
        "def get_qr(A):\n",
        "    n = A.shape[0]\n",
        "    Q = np.eye(n)\n",
        "    R = A.copy()\n",
        "\n",
        "    for j in range(n):\n",
        "        a = R[j:, j]  # getting vector\n",
        "        H = householder(a)  # getting Householder matrix\n",
        "\n",
        "        R[j:, j:] = H @ R[j:, j:]  # change R\n",
        "        Q[:, j:] = Q[:, j:] @ H.T  # change Q\n",
        "\n",
        "    return Q, R\n",
        "\n",
        "\n",
        "def eig(A, e=1e-10):\n",
        "    An = A.copy() # for eig values\n",
        "    eig_vectors = np.eye(A.shape[0]) # for eig vectors\n",
        "    cache_eig_values = np.diag(An) # diag values\n",
        "    diff = 1000\n",
        "\n",
        "    while diff > e:\n",
        "        Q, R = get_qr(An)\n",
        "\n",
        "        # update eigen values and eigen vectors\n",
        "        An = R @ Q\n",
        "        eig_vectors = eig_vectors @ Q\n",
        "\n",
        "        # update difference between eig values\n",
        "        current_eig_values = np.diag(An)\n",
        "        diff = np.linalg.norm(current_eig_values - cache_eig_values)\n",
        "        cache_eig_values = current_eig_values\n",
        "\n",
        "    eig_values = np.diag(An)\n",
        "\n",
        "    # sort eig_values\n",
        "    sorted_key = np.argsort(eig_values)[::-1]\n",
        "    eig_values = eig_values[sorted_key]\n",
        "\n",
        "    # return eigen values and eigen vectors\n",
        "    return eig_values, eig_vectors"
      ]
    },
    {
      "cell_type": "markdown",
      "source": [
        "### SVD"
      ],
      "metadata": {
        "id": "1QF55rB24ivP"
      }
    },
    {
      "cell_type": "code",
      "source": [
        "def svd(A):\n",
        "    # V^T matrix\n",
        "    temp_V = A.T @ A\n",
        "    eig_values, V = eig(temp_V)  # Собственные значения и векторы для A^T A\n",
        "    V_T = V.T\n",
        "\n",
        "    # U matrix\n",
        "    temp_U = A @ A.T\n",
        "    _, U = eig(temp_U)  # Собственные значения и векторы для A A^T\n",
        "\n",
        "    # Sigma matrix ПРОВЕРИТЬ ЭТОТ МОМЕНТ\n",
        "    sigma = np.zeros((A.shape[0], A.shape[1]))\n",
        "    for i in range(min(A.shape[0], A.shape[1])):\n",
        "        sigma[i, i] = np.sqrt(eig_values[i]) if eig_values[i] >= 0 else 0\n",
        "\n",
        "    # Result\n",
        "    return U, sigma, V_T"
      ],
      "metadata": {
        "id": "oK40PoxF4kz9"
      },
      "execution_count": 45,
      "outputs": []
    },
    {
      "cell_type": "markdown",
      "source": [
        "### Data Scaling before PCA??"
      ],
      "metadata": {
        "id": "MxW70xDrjWMG"
      }
    },
    {
      "cell_type": "code",
      "source": [
        "# before pca\n",
        "from sklearn.preprocessing import StandardScaler\n",
        "\n",
        "scaler = StandardScaler()\n",
        "\n",
        "scaled_X = scaler.fit_transform(df)\n",
        "scaled_X.mean()"
      ],
      "metadata": {
        "id": "ARaNA8XljaD7"
      },
      "execution_count": null,
      "outputs": []
    },
    {
      "cell_type": "code",
      "source": [
        "cov_matrix = np.cov(scaled_X, rowvar = False)"
      ],
      "metadata": {
        "id": "18yK_SQUkcEU"
      },
      "execution_count": null,
      "outputs": []
    },
    {
      "cell_type": "markdown",
      "source": [
        "### PCA"
      ],
      "metadata": {
        "id": "-ttL4wayGEvO"
      }
    },
    {
      "cell_type": "code",
      "source": [
        "# coming soon..."
      ],
      "metadata": {
        "id": "6MpsIuDVGHZC"
      },
      "execution_count": null,
      "outputs": []
    },
    {
      "cell_type": "markdown",
      "source": [
        "### Build the Neural Network\n",
        "\n",
        "https://pytorch.org/tutorials/beginner/basics/buildmodel_tutorial.html#model-parameters"
      ],
      "metadata": {
        "id": "JeBhbz6FGIQ4"
      }
    },
    {
      "cell_type": "code",
      "source": [
        "import os\n",
        "import torch\n",
        "from torch import nn\n",
        "from torch.utils.data import DataLoader\n",
        "from torchvision import datasets, transforms"
      ],
      "metadata": {
        "id": "Nas_dEJoGQaa"
      },
      "execution_count": null,
      "outputs": []
    },
    {
      "cell_type": "markdown",
      "source": [
        "#### Get Device for Training"
      ],
      "metadata": {
        "id": "M0Nn_zz_GzHt"
      }
    },
    {
      "cell_type": "code",
      "source": [
        "device = (\n",
        "    \"cuda\"\n",
        "    if torch.cuda.is_available()\n",
        "    else \"mps\"\n",
        "    if torch.backends.mps.is_available()\n",
        "    else \"cpu\"\n",
        ")\n",
        "print(f\"Using {device} device\")"
      ],
      "metadata": {
        "id": "vkDHLdk1G-kE"
      },
      "execution_count": null,
      "outputs": []
    },
    {
      "cell_type": "markdown",
      "source": [
        "#### Define the Class"
      ],
      "metadata": {
        "id": "bbtbi_mAHCtP"
      }
    },
    {
      "cell_type": "code",
      "source": [
        "class NeuralNetwork(nn.Module):\n",
        "    def __init__(self):\n",
        "        super().__init__()\n",
        "        self.flatten = nn.Flatten()\n",
        "        self.linear_relu_stack = nn.Sequential(\n",
        "            nn.Linear(28*28, 512),\n",
        "            nn.ReLU(),\n",
        "            nn.Linear(512, 512),\n",
        "            nn.ReLU(),\n",
        "            nn.Linear(512, 10),\n",
        "        )\n",
        "\n",
        "    def forward(self, x):\n",
        "        x = self.flatten(x)\n",
        "        logits = self.linear_relu_stack(x)\n",
        "        return logits"
      ],
      "metadata": {
        "id": "5yWp5-v5HGf7"
      },
      "execution_count": null,
      "outputs": []
    },
    {
      "cell_type": "code",
      "source": [
        "model = NeuralNetwork().to(device)\n",
        "print(model)"
      ],
      "metadata": {
        "id": "Ffx2Ft-XHLZk"
      },
      "execution_count": null,
      "outputs": []
    },
    {
      "cell_type": "code",
      "source": [
        "X = torch.rand(1, 28, 28, device=device)\n",
        "logits = model(X)\n",
        "pred_probab = nn.Softmax(dim=1)(logits)\n",
        "y_pred = pred_probab.argmax(1)\n",
        "print(f\"Predicted class: {y_pred}\")"
      ],
      "metadata": {
        "id": "Eqczwb8wH6t-"
      },
      "execution_count": null,
      "outputs": []
    },
    {
      "cell_type": "markdown",
      "metadata": {
        "id": "jf4k29IMnSP4"
      },
      "source": [
        "### Test - Eigen values and vectors"
      ]
    },
    {
      "cell_type": "code",
      "execution_count": 32,
      "metadata": {
        "tags": [],
        "id": "unOnRXqtnSP5",
        "outputId": "ce0fb071-6bae-4446-df42-28e0a0dea868",
        "colab": {
          "base_uri": "https://localhost:8080/"
        }
      },
      "outputs": [
        {
          "output_type": "stream",
          "name": "stdout",
          "text": [
            "Transposed origin matrix A: \n",
            " [[27. 32. 13.]\n",
            " [32. 40. 16.]\n",
            " [13. 16. 11.]] \n",
            " \n",
            "Норма для собственного значения     λ1 = 73.007:\t 0.0\n",
            "Норма для собственного значения     λ2 = 4.147:\t 0.0\n",
            "Норма для собственного значения     λ3 = 0.846:\t 0.0\n",
            "\n",
            " Eigen vectors: \n",
            " [[ 0.60030706 -0.21284941  0.77092578]\n",
            " [ 0.73491404 -0.23343806 -0.6367166 ]\n",
            " [ 0.31548817  0.94878965  0.01629151]]\n"
          ]
        }
      ],
      "source": [
        "'''\n",
        "eigen values for matrix A:\n",
        "l1 = -2\n",
        "l2 = 2\n",
        "l3 = 4\n",
        "\n",
        "eigen vectors for matrix A:\n",
        "v1 = (0, 1, -2)\n",
        "v2 = (2, -1, 0)\n",
        "v3 = (9, -2, 1)\n",
        "\n",
        "original: http://mathprofi.ru/sobstvennye_znachenija_i_sobstvennye_vektory.html\n",
        "'''\n",
        "\n",
        "A = np.array([[5, 6, 3],\n",
        "                      [-1, 0, 1],\n",
        "                      [1, 2, -1]], dtype = float)\n",
        "A=A.T@A\n",
        "print(f'Transposed origin matrix A: \\n {A} \\n ')\n",
        "eig_values, eig_vectors = eig(A)\n",
        "\n",
        "n = A.shape[0]\n",
        "\n",
        "for i in range(n):\n",
        "    v = eig_vectors [:, i]\n",
        "    norm_value = np.linalg.norm((A - eig_values[i] * np.eye(n)) @ v)\n",
        "\n",
        "    print(f\"Норма для собственного значения \\\n",
        "    λ{i+1} = {eig_values[i].round(3)}:\\t {norm_value.round(3)}\")\n",
        "\n",
        "print(f'\\n Eigen vectors: \\n {eig_vectors}')"
      ]
    },
    {
      "cell_type": "markdown",
      "source": [
        "### Test - SVD-decomposition"
      ],
      "metadata": {
        "id": "PDWdfR9_auG3"
      }
    },
    {
      "cell_type": "code",
      "source": [
        "'''\n",
        "Для матрицы A_2x2:\n",
        "\n",
        "U = [[0.6, 0.8]\n",
        "      [0.8, -0.6]]\n",
        "\n",
        "Sigma = [[3, 0]\n",
        "              [0, 1]]\n",
        "\n",
        "V_T = [[0.8, -0.6]\n",
        "          [0.6, 0.8]]\n",
        "\n",
        "original: http://www.machinelearning.ru/wiki/index.php?title=%D0%A1%D0%B8%D0%BD%D0%B3%D1%83%D0%BB%D1%8F%D1%80%D0%BD%D0%BE%D0%B5_%D1%80%D0%B0%D0%B7%D0%BB%D0%BE%D0%B6%D0%B5%D0%BD%D0%B8%D0%B5\n",
        "'''\n",
        "\n",
        "A_2x2 = np.array([[0.96, 1.72],\n",
        "                            [2.28, 0.96]], dtype = float)\n",
        "\n",
        "U, Sigma, V_T = svd(A_2x2)\n",
        "\n",
        "print(f'Origin matrix A: \\n{A_2x2} \\n ')\n",
        "print(f'Матрица левых сингулярных векторов U: \\n {U.round(3)} \\n ')\n",
        "print(f'Матрица сингулярных чисел Sigma: \\n {Sigma.round(3)} \\n ')\n",
        "print(f'Матрица правых сингулярных векторов V_T: \\n {V_T.round(3)} ')"
      ],
      "metadata": {
        "colab": {
          "base_uri": "https://localhost:8080/"
        },
        "id": "-MB7WkTEaxMw",
        "outputId": "2a34cb92-9263-42e8-e007-982f1f32a9b6"
      },
      "execution_count": 46,
      "outputs": [
        {
          "output_type": "stream",
          "name": "stdout",
          "text": [
            "Origin matrix A: \n",
            "[[0.96 1.72]\n",
            " [2.28 0.96]] \n",
            " \n",
            "Матрица левых сингулярных векторов U: \n",
            " [[-0.6  0.8]\n",
            " [-0.8 -0.6]] \n",
            " \n",
            "Матрица сингулярных чисел Sigma: \n",
            " [[3. 0.]\n",
            " [0. 1.]] \n",
            " \n",
            "Матрица правых сингулярных векторов V_T: \n",
            " [[-0.8 -0.6]\n",
            " [ 0.6 -0.8]] \n"
          ]
        }
      ]
    },
    {
      "cell_type": "markdown",
      "source": [
        "### Комментарии\n"
      ],
      "metadata": {
        "id": "LbM_56DR82B6"
      }
    },
    {
      "cell_type": "markdown",
      "source": [
        "#### Заира\n",
        "\n",
        "Делаем так: нам нужно найти разложение X вида $U*Сигма*V_T$:\n",
        "- находим собственные значения для матрицы A*A_T и собств вектора -> определим U и Сигму из этого\n",
        "\n",
        "Cейчас (до вс) нужно научиться сортировать в сигме синг значения по убыванию и менять соответсвующие столбцы в U.\n",
        "Что делать с матрицей V я подумаю и скажу в вс"
      ],
      "metadata": {
        "id": "zWCK3prfAghu"
      }
    },
    {
      "cell_type": "code",
      "source": [],
      "metadata": {
        "id": "nj47UrLLK5mC"
      },
      "execution_count": null,
      "outputs": []
    },
    {
      "cell_type": "markdown",
      "source": [
        "#### Дима\n",
        "\n",
        "__Сделать__\n",
        "\n",
        "- добить свд и посмотреть что в нем с матрицей сигма и на кой там внутри сортировка теперь нужна, если она есть в eig()\n",
        "- протестировать свд на примере (мб презентация)\n",
        "- что с проверкой матрицы на симметричность и нужно ли внутри метода умножать на транспонированную чтобы сделать симметричной"
      ],
      "metadata": {
        "id": "tHjOs3Z1AkhO"
      }
    },
    {
      "cell_type": "code",
      "source": [],
      "metadata": {
        "id": "OBHW9Wgk2XwG"
      },
      "execution_count": null,
      "outputs": []
    },
    {
      "cell_type": "markdown",
      "source": [
        "#### Вадим\n",
        "\n",
        "можете оставлять здесь комментарии, заметки и прикладывать картинки.\n",
        "\n",
        "тыкни два раза по этому тексту чтобы редактировать его"
      ],
      "metadata": {
        "id": "TOZJqUEBA15V"
      }
    },
    {
      "cell_type": "code",
      "source": [],
      "metadata": {
        "id": "ucQvAeS4K4Wa"
      },
      "execution_count": null,
      "outputs": []
    },
    {
      "cell_type": "markdown",
      "source": [
        "#### Алена\n",
        "\n",
        "можете оставлять здесь комментарии, заметки и прикладывать картинки.\n",
        "\n",
        "тыкни два раза по этому тексту чтобы редактировать его"
      ],
      "metadata": {
        "id": "FeaB-8dEA7mi"
      }
    },
    {
      "cell_type": "code",
      "source": [],
      "metadata": {
        "id": "bn4QymHnIS6L"
      },
      "execution_count": null,
      "outputs": []
    }
  ],
  "metadata": {
    "kernelspec": {
      "display_name": "Python 3 (ipykernel)",
      "language": "python",
      "name": "python3"
    },
    "language_info": {
      "codemirror_mode": {
        "name": "ipython",
        "version": 3
      },
      "file_extension": ".py",
      "mimetype": "text/x-python",
      "name": "python",
      "nbconvert_exporter": "python",
      "pygments_lexer": "ipython3",
      "version": "3.11.7"
    },
    "colab": {
      "provenance": [],
      "collapsed_sections": [
        "MxW70xDrjWMG",
        "-ttL4wayGEvO",
        "JeBhbz6FGIQ4",
        "jf4k29IMnSP4"
      ],
      "include_colab_link": true
    }
  },
  "nbformat": 4,
  "nbformat_minor": 0
}