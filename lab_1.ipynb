{
  "cells": [
    {
      "cell_type": "markdown",
      "metadata": {
        "id": "view-in-github",
        "colab_type": "text"
      },
      "source": [
        "<a href=\"https://colab.research.google.com/github/dmitryglhf/jupyter-projects/blob/main/lab_1.ipynb\" target=\"_parent\"><img src=\"https://colab.research.google.com/assets/colab-badge.svg\" alt=\"Open In Colab\"/></a>"
      ]
    },
    {
      "cell_type": "markdown",
      "metadata": {
        "id": "Ia1-cqMtnSPw"
      },
      "source": [
        "### Lib"
      ]
    },
    {
      "cell_type": "code",
      "execution_count": null,
      "metadata": {
        "colab": {
          "background_save": true
        },
        "id": "cwIKbK7cnSP0"
      },
      "outputs": [],
      "source": [
        "import numpy as np\n",
        "import pandas as pd\n",
        "import matplotlib.pyplot as plt"
      ]
    },
    {
      "cell_type": "code",
      "execution_count": null,
      "metadata": {
        "id": "7ic_9WRw20-e"
      },
      "outputs": [],
      "source": [
        "from sklearn.preprocessing import StandardScaler\n",
        "from sklearn.preprocessing import LabelEncoder\n",
        "from sklearn.metrics import roc_auc_score as roc_auc\n",
        "from sklearn.model_selection import train_test_split\n",
        "from sklearn.metrics import roc_curve\n",
        "\n",
        "import torch\n",
        "import torch.nn as nn\n",
        "import copy\n",
        "import torch.optim as optim\n",
        "import tqdm"
      ]
    },
    {
      "cell_type": "markdown",
      "metadata": {
        "id": "Jx71gFk-nSP2"
      },
      "source": [
        "### Householder, QR, Eig, SVD\n"
      ]
    },
    {
      "cell_type": "code",
      "execution_count": null,
      "metadata": {
        "id": "ZKcanMkInSP3"
      },
      "outputs": [],
      "source": [
        "def householder(a):\n",
        "    v = a.copy()\n",
        "    v[0] += np.sign(v[0]) * np.linalg.norm(a)\n",
        "    v_dot = np.dot(v, v)\n",
        "\n",
        "    if v_dot == 0:\n",
        "        H = np.eye(len(a))  # если v_dot равно нулю, то H будет единичной матрицей\n",
        "    else:\n",
        "        H = np.eye(len(a)) - 2 * np.outer(v, v) / v_dot  # вычисление матрицы Хаусхолдера\n",
        "    return H\n",
        "\n",
        "\n",
        "def get_qr(A):\n",
        "    n = A.shape[0]\n",
        "    Q = np.eye(n)\n",
        "    R = A.copy()\n",
        "\n",
        "    for j in range(n):\n",
        "        a = R[j:, j]  # getting vector\n",
        "        H = householder(a)  # getting Householder matrix\n",
        "\n",
        "        R[j:, j:] = H @ R[j:, j:]  # change R\n",
        "        Q[:, j:] = Q[:, j:] @ H.T  # change Q\n",
        "\n",
        "    return Q, R\n",
        "\n",
        "\n",
        "def eig(A, e=1e-10, max_iter=1000):\n",
        "    Ak = A.copy()\n",
        "    eig_vectors = np.eye(A.shape[0])\n",
        "\n",
        "    for i in range(max_iter):\n",
        "        Q, R = get_qr(Ak)\n",
        "        Ak = np.dot(R, Q)\n",
        "        eig_vectors = np.dot(eig_vectors, Q)\n",
        "\n",
        "        off_diag_norm = np.sqrt(np.sum(np.tril(Ak, -1) ** 2))\n",
        "        if off_diag_norm < e:\n",
        "            break\n",
        "\n",
        "    eig_values = np.diag(Ak)\n",
        "\n",
        "    return eig_values, eig_vectors\n",
        "\n",
        "\n",
        "def svd(A):\n",
        "    # Вычисляем U и собственные значения для A A^T\n",
        "    temp_U = A @ A.T\n",
        "    eig_values_U, U = eig(temp_U)\n",
        "\n",
        "    # Сортируем собственные значения и векторы по убыванию\n",
        "    idx_U = np.argsort(eig_values_U)[::-1]\n",
        "    eig_values_U = eig_values_U[idx_U]\n",
        "    U = U[:, idx_U]\n",
        "\n",
        "    # Матрица Sigma\n",
        "    sigma = np.zeros((A.shape[0], A.shape[1]))\n",
        "    for i in range(min(A.shape[0], A.shape[1])):\n",
        "        sigma[i, i] = np.sqrt(eig_values_U[i]) if eig_values_U[i] > 0 else 0\n",
        "\n",
        "    # Вычисляем V^T\n",
        "    sigma_inv = np.zeros_like(sigma.T)\n",
        "    for i in range(min(A.shape[0], A.shape[1])):\n",
        "        if sigma[i, i] > 0:\n",
        "            sigma_inv[i, i] = 1 / sigma[i, i]\n",
        "\n",
        "    V_T = sigma_inv @ U.T @ A\n",
        "\n",
        "    # Результат\n",
        "    res = U @ sigma @ V_T\n",
        "\n",
        "    print(f'NASH KOD Origin matrix A: \\n{A} \\n ')\n",
        "    print(f'Матрица левых сингулярных векторов U: \\n {U} \\n ')\n",
        "    print(f'Матрица сингулярных чисел Sigma: \\n {sigma} \\n ')\n",
        "    print(f'Матрица правых сингулярных векторов V_T: \\n {V_T} \\n ')\n",
        "    print(f'Исходная матрица: \\n {res} \\n ')\n",
        "\n",
        "    return U, sigma, V_T\n",
        "\n"
      ]
    },
    {
      "cell_type": "markdown",
      "metadata": {
        "id": "-ttL4wayGEvO"
      },
      "source": [
        "### PCA"
      ]
    },
    {
      "cell_type": "code",
      "execution_count": null,
      "metadata": {
        "id": "gNlDVEECWeqz"
      },
      "outputs": [],
      "source": [
        "def pca(X):\n",
        "  U, S, V_T = svd(X)\n",
        "\n",
        "  # finding numer of PC\n",
        "  sum = S[0][0]\n",
        "  explained_ratio = sum / np.sum(np.diag(X))\n",
        "  i = 1\n",
        "  while(explaned_ratio <= 0.95):\n",
        "    sum += S[i][i]\n",
        "    explained_ratio = sum / np.sum(np.diag(X))\n",
        "    i += 1\n",
        "\n",
        "  # projection\n",
        "  V_T_k = V_T[:i, :]  # берем первые k строк матрицы V_T\n",
        "  X_pca = X @ V_T_k.T\n",
        "\n",
        "  return X_pca"
      ]
    },
    {
      "cell_type": "markdown",
      "metadata": {
        "id": "PDWdfR9_auG3"
      },
      "source": [
        "### Test - funct"
      ]
    },
    {
      "cell_type": "code",
      "execution_count": null,
      "metadata": {
        "id": "-MB7WkTEaxMw"
      },
      "outputs": [],
      "source": [
        "def svd_test(A):\n",
        "    U, S, V = svd(A)\n",
        "\n",
        "    #U, S, V = np.linalg.svd(A)\n",
        "    S = np.diag(S)\n",
        "\n",
        "    #res = np.dot(U, np.dot(S, V))\n",
        "    #res = np.dot(np.dot(U, S), V)\n",
        "\n",
        "    #V[2][0] = -0.43042935\n",
        "    #V[2][1] = 0.79483601\n",
        "    #V[2][2] = -0.42774559\n",
        "\n",
        "    #res = U @ S @ V\n",
        "    print(f'NUMPY Origin matrix A: \\n{A} \\n ')\n",
        "    print(f'Матрица левых сингулярных векторов U: \\n {U} \\n ')\n",
        "    print(f'Матрица сингулярных чисел Sigma: \\n {S} \\n ')\n",
        "    print(f'Матрица правых сингулярных векторов V_T: \\n {V} \\n ')\n",
        "    #print(f'Исходная матрица: \\n {res} \\n ')\n",
        "\n",
        "\n",
        "def qr_test(X):\n",
        "    test_X = X @ X.T\n",
        "    Q, R = get_qr(test_X)\n",
        "\n",
        "    print(f'NUMPY Origin matrix A = X @ X.T: \\n{test_X} \\n ')\n",
        "    print(f'Матрица Q: \\n {Q} \\n ')\n",
        "    print(f'Матрица R: \\n {R} \\n ')\n",
        "    print(f'Исходная матрица A = Q @ R: \\n {Q @ R} \\n ')"
      ]
    },
    {
      "cell_type": "markdown",
      "metadata": {
        "id": "7Cnpg56jhu26"
      },
      "source": [
        "### Test"
      ]
    },
    {
      "cell_type": "code",
      "execution_count": null,
      "metadata": {
        "colab": {
          "base_uri": "https://localhost:8080/"
        },
        "id": "pb5PcKJMhmzQ",
        "outputId": "0c10dbd7-c20b-4db4-b12b-f9a002704fd1"
      },
      "outputs": [
        {
          "name": "stdout",
          "output_type": "stream",
          "text": [
            "NUMPY Origin matrix A: \n",
            "[[3. 5.]\n",
            " [9. 4.]\n",
            " [4. 5.]\n",
            " [8. 9.]] \n",
            " \n",
            "Матрица левых сингулярных векторов U: \n",
            " [[ 0.32200951 -0.42290278  0.56864182 -0.62778149]\n",
            " [ 0.53673164  0.81588836  0.08454905 -0.19772905]\n",
            " [ 0.36430103 -0.24802239 -0.81236006 -0.38189107]\n",
            " [ 0.68957507 -0.30653598  0.09782167  0.64880878]] \n",
            " \n",
            "Матрица сингулярных чисел Sigma: \n",
            " [17.37704426  3.87792891] \n",
            " \n",
            "Матрица правых сингулярных векторов V_T: \n",
            " [[ 0.73490162  0.67817373]\n",
            " [ 0.67817373 -0.73490162]] \n",
            " \n"
          ]
        },
        {
          "data": {
            "text/plain": [
              "(array([[ 0.32200951, -0.42290278,  0.56864182, -0.62778149],\n",
              "        [ 0.53673164,  0.81588836,  0.08454905, -0.19772905],\n",
              "        [ 0.36430103, -0.24802239, -0.81236006, -0.38189107],\n",
              "        [ 0.68957507, -0.30653598,  0.09782167,  0.64880878]]),\n",
              " array([[17.37704426,  0.        ],\n",
              "        [ 0.        ,  3.87792891],\n",
              "        [ 0.        ,  0.        ],\n",
              "        [ 0.        ,  0.        ]]),\n",
              " array([[ 0.73490162,  0.67817373],\n",
              "        [ 0.67817373, -0.73490162]]))"
            ]
          },
          "execution_count": 12,
          "metadata": {},
          "output_type": "execute_result"
        }
      ],
      "source": [
        "# test 1\n",
        "#A = np.array([[1, 2, 3], [5, 7, 8], [3, 6, 8]], dtype=float) # все ок\n",
        "\n",
        "# test 2\n",
        "#A = np.array([[1, 2, 3], [4, 5, 6], [7, 8, 9]], dtype=float) # нижняя строка - нули ???\n",
        "\n",
        "# test 3\n",
        "#A = np.array([[7, 2, -5], [-9, 8, -5], [24, -6, 8]], dtype=float) # все ок\n",
        "\n",
        "# test 4 - прямоугольная матрица - нижняя строка - нули ???\n",
        "\n",
        "A = np.array([[3, 5], [9, 4], [4, 5], [8, 9]], dtype = float)\n",
        "'''\n",
        "A = np.array([[1, 0, 0, 0, 2],\n",
        "              [0, 0, 3, 0, 0],\n",
        "              [0, 0, 0, 0, 0],\n",
        "              [0, 4, 0, 0, 0]], dtype=float)\n",
        "'''\n",
        "\n",
        "#qr_test(A)\n",
        "svd_test(A)\n",
        "svd(A)"
      ]
    },
    {
      "cell_type": "markdown",
      "metadata": {
        "id": "LbM_56DR82B6"
      },
      "source": [
        "### NN\n"
      ]
    },
    {
      "cell_type": "markdown",
      "metadata": {
        "id": "5oIO6cAw9ZWq"
      },
      "source": [
        "#### Data"
      ]
    },
    {
      "cell_type": "code",
      "execution_count": null,
      "metadata": {
        "id": "LJbRsy9DuSG5"
      },
      "outputs": [],
      "source": [
        "data = pd.read_csv('cancer_tumor_data_features.csv')\n",
        "columns_to_drop = ['id', 'Unnamed: 32']\n",
        "data.drop(columns_to_drop, axis=1, inplace=True)\n",
        "\n",
        "X = data.drop('diagnosis', axis=1)\n",
        "y = data.diagnosis"
      ]
    },
    {
      "cell_type": "code",
      "execution_count": null,
      "metadata": {
        "id": "PPBZSBtho2Sf"
      },
      "outputs": [],
      "source": [
        "encoder = LabelEncoder()\n",
        "encoder.fit(y)\n",
        "y = encoder.transform(y)\n",
        "print(encoder.classes_)"
      ]
    },
    {
      "cell_type": "markdown",
      "metadata": {
        "id": "JHvNo0OE9eRk"
      },
      "source": [
        "#### Build model"
      ]
    },
    {
      "cell_type": "code",
      "execution_count": null,
      "metadata": {
        "id": "In_bKEk-Agtr"
      },
      "outputs": [],
      "source": [
        "X = torch.tensor(X.values, dtype=torch.float32)\n",
        "y = torch.tensor(y, dtype=torch.float32).reshape(-1, 1)"
      ]
    },
    {
      "cell_type": "code",
      "execution_count": null,
      "metadata": {
        "id": "8NkqC-vo9iIK"
      },
      "outputs": [],
      "source": [
        "class MyNN(nn.Module):\n",
        "    def __init__(self, n):\n",
        "        super().__init__()\n",
        "        self.hidden = nn.Linear(n, n)\n",
        "        self.relu = nn.ReLU()\n",
        "        self.output = nn.Linear(n, 1)\n",
        "        self.sigmoid = nn.Sigmoid()\n",
        "\n",
        "    def forward(self, x):\n",
        "        x = self.relu(self.hidden(x))\n",
        "        x = self.sigmoid(self.output(x))\n",
        "        return x"
      ]
    },
    {
      "cell_type": "code",
      "execution_count": null,
      "metadata": {
        "id": "Z7AJQL7F9k2x"
      },
      "outputs": [],
      "source": [
        "model = MyNN(30)\n",
        "print(sum([x.reshape(-1).shape[0] for x in model.parameters()]))"
      ]
    },
    {
      "cell_type": "code",
      "execution_count": null,
      "metadata": {
        "id": "YeiPomZX9mDj"
      },
      "outputs": [],
      "source": [
        "def model_train(model, X_train, y_train, X_val, y_val):\n",
        "    # loss function and optimizer\n",
        "    loss_fn = nn.BCELoss()  # binary cross entropy\n",
        "    optimizer = optim.Adam(model.parameters(), lr=0.0001)\n",
        "\n",
        "    n_epochs = 250   # number of epochs to run\n",
        "    batch_size = 10  # size of each batch\n",
        "    batch_start = torch.arange(0, len(X_train), batch_size)\n",
        "\n",
        "    # Hold the best model\n",
        "    best_acc = - np.inf   # init to negative infinity\n",
        "    best_weights = None\n",
        "\n",
        "    for epoch in range(n_epochs):\n",
        "        model.train()\n",
        "        with tqdm.tqdm(batch_start, unit=\"batch\", mininterval=0, disable=True) as bar:\n",
        "            bar.set_description(f\"Epoch {epoch}\")\n",
        "            for start in bar:\n",
        "                # take a batch\n",
        "                X_batch = X_train[start:start+batch_size]\n",
        "                y_batch = y_train[start:start+batch_size]\n",
        "                # forward pass\n",
        "                y_pred = model(X_batch)\n",
        "                loss = loss_fn(y_pred, y_batch)\n",
        "                # backward pass\n",
        "                optimizer.zero_grad()\n",
        "                loss.backward()\n",
        "                # update weights\n",
        "                optimizer.step()\n",
        "                # print progress\n",
        "                acc = (y_pred.round() == y_batch).float().mean()\n",
        "                bar.set_postfix(\n",
        "                    loss=float(loss),\n",
        "                    acc=float(acc)\n",
        "                )\n",
        "        # evaluate accuracy at end of each epoch\n",
        "        model.eval()\n",
        "        y_pred = model(X_val)\n",
        "        acc = (y_pred.round() == y_val).float().mean()\n",
        "        acc = float(acc)\n",
        "        if acc > best_acc:\n",
        "            best_acc = acc\n",
        "            best_weights = copy.deepcopy(model.state_dict())\n",
        "    # restore model and return best accuracy\n",
        "    model.load_state_dict(best_weights)\n",
        "    return best_acc"
      ]
    },
    {
      "cell_type": "code",
      "execution_count": null,
      "metadata": {
        "id": "V4S3G1Lq9p09"
      },
      "outputs": [],
      "source": [
        "X_train, X_test, y_train, y_test = train_test_split(X, y, train_size=0.7, shuffle=True)"
      ]
    },
    {
      "cell_type": "code",
      "execution_count": null,
      "metadata": {
        "id": "2mx4JcSe9r6d"
      },
      "outputs": [],
      "source": [
        "%%time\n",
        "acc = model_train(model, X_train, y_train, X_test, y_test)\n",
        "print(f\"Final model accuracy: {acc*100:.2f}%\")"
      ]
    }
  ],
  "metadata": {
    "colab": {
      "provenance": [],
      "include_colab_link": true
    },
    "kernelspec": {
      "display_name": "Python 3 (ipykernel)",
      "language": "python",
      "name": "python3"
    },
    "language_info": {
      "codemirror_mode": {
        "name": "ipython",
        "version": 3
      },
      "file_extension": ".py",
      "mimetype": "text/x-python",
      "name": "python",
      "nbconvert_exporter": "python",
      "pygments_lexer": "ipython3",
      "version": "3.11.7"
    }
  },
  "nbformat": 4,
  "nbformat_minor": 0
}